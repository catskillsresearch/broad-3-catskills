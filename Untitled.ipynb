{
 "cells": [
  {
   "cell_type": "markdown",
   "id": "dab9384b-b16b-4ae1-bee3-ae9e28209885",
   "metadata": {},
   "source": [
    "## Debug end of pipeline"
   ]
  },
  {
   "cell_type": "code",
   "execution_count": 3,
   "id": "59404a7c-1e16-44cc-8c8c-a5a80a187916",
   "metadata": {},
   "outputs": [
    {
     "name": "stdout",
     "output_type": "stream",
     "text": [
      "/home/catskills/Desktop/broad/broad-3-catskills\n"
     ]
    }
   ],
   "source": [
    "!pwd"
   ]
  },
  {
   "cell_type": "code",
   "execution_count": 27,
   "id": "3762f258-f593-4c3f-9bb4-4dca9d06d6f9",
   "metadata": {},
   "outputs": [],
   "source": [
    "import os\n",
    "from glob import glob\n",
    "from np_loadz import np_loadz\n",
    "import numpy as np"
   ]
  },
  {
   "cell_type": "code",
   "execution_count": 58,
   "id": "0fb3721d-41e5-4608-adff-7354fd3d34e9",
   "metadata": {},
   "outputs": [
    {
     "name": "stdout",
     "output_type": "stream",
     "text": [
      "-rw-rw-r-- 1 catskills catskills 1456174496 Apr 27 16:20 resources/run/UC9_I_patches.h5\n",
      "-rw-rw-r-- 1 catskills catskills    1395003 Apr 27 16:21 resources/run/UC9_I_patch_locations_on_image.png\n",
      "-rw-rw-r-- 1 catskills catskills      17606 Apr 27 16:21 resources/run/UC9_I_patch_examples.png\n"
     ]
    }
   ],
   "source": [
    "!ls -ltr resources/run/*patch*"
   ]
  },
  {
   "cell_type": "code",
   "execution_count": 55,
   "id": "2995f241-c311-4599-9abb-6d505832ca7c",
   "metadata": {},
   "outputs": [
    {
     "data": {
      "text/plain": [
       "['resources/run/UC9_I_dysplasia_genes458.npz',\n",
       " 'resources/run/UC9_I_non_dysplasia_genes18615.npz',\n",
       " 'resources/run/UC9_I_dysplasia_features.npz',\n",
       " 'resources/run/UC9_I_dysplasia_genes18157_PCs.npz',\n",
       " 'resources/run/UC9_I_non_dysplasia_genes18157_density.png',\n",
       " 'resources/run/UC9_I_dysplasia_feature_density.png',\n",
       " 'resources/run/UC9_I_non_dysplasia_genes458.npz',\n",
       " 'resources/run/UC9_I_dysplasia_genes458_PCs.npz',\n",
       " 'resources/run/UC9_I_dysplasia_feature_PCs.npz',\n",
       " 'resources/run/UC9_I_dysplasia_genes18157.npz',\n",
       " 'resources/run/UC9_I_dysplasia_genes458_density.png',\n",
       " 'resources/run/UC9_I_dysplasia_genes18615.npz',\n",
       " 'resources/run/UC9_I_non_dysplasia_genes458_density.png',\n",
       " 'resources/run/UC9_I_non_dysplasia_genes18157.npz',\n",
       " 'resources/run/UC9_I_dysplasia_feature_PCA_MSE.png',\n",
       " 'resources/run/UC9_I_non_dysplasia_genes18157_PCs.npz',\n",
       " 'resources/run/UC9_I_non_dysplasia_genes458_PCs.npz',\n",
       " 'resources/run/UC9_I_dysplasia_genes18157_density.png']"
      ]
     },
     "execution_count": 55,
     "metadata": {},
     "output_type": "execute_result"
    }
   ],
   "source": [
    " glob('resources/run/*dysp*')"
   ]
  },
  {
   "cell_type": "code",
   "execution_count": 53,
   "id": "0706be0d-f767-46c0-aded-8724e5f37b4e",
   "metadata": {},
   "outputs": [
    {
     "data": {
      "text/plain": [
       "['resources/run/UC9_I_dysplasia_features.npz']"
      ]
     },
     "execution_count": 53,
     "metadata": {},
     "output_type": "execute_result"
    }
   ],
   "source": [
    " glob('resources/run/UC9_I_*dy*features.npz')"
   ]
  },
  {
   "cell_type": "code",
   "execution_count": 52,
   "id": "86c588bf-db6c-44c4-aeca-1e16a283f25e",
   "metadata": {},
   "outputs": [
    {
     "data": {
      "text/plain": [
       "['resources/run/UC9_I_dysplasia_feature_PCs.npz']"
      ]
     },
     "execution_count": 52,
     "metadata": {},
     "output_type": "execute_result"
    }
   ],
   "source": [
    " glob('resources/run/UC9_I_*dy*feature_PCs.npz')"
   ]
  },
  {
   "cell_type": "code",
   "execution_count": 51,
   "id": "e13e7de0-8b2a-4782-bf5b-a694b34b0bbf",
   "metadata": {},
   "outputs": [
    {
     "ename": "ValueError",
     "evalue": "not enough values to unpack (expected 2, got 1)",
     "output_type": "error",
     "traceback": [
      "\u001b[0;31m---------------------------------------------------------------------------\u001b[0m",
      "\u001b[0;31mValueError\u001b[0m                                Traceback (most recent call last)",
      "Cell \u001b[0;32mIn[51], line 1\u001b[0m\n\u001b[0;32m----> 1\u001b[0m d458fn, nd458fn \u001b[38;5;241m=\u001b[39m glob(\u001b[38;5;124m'\u001b[39m\u001b[38;5;124mresources/run/UC9_I_*dy*feature_PCs.npz\u001b[39m\u001b[38;5;124m'\u001b[39m)\n",
      "\u001b[0;31mValueError\u001b[0m: not enough values to unpack (expected 2, got 1)"
     ]
    }
   ],
   "source": [
    "d458fn, nd458fn = glob('resources/run/UC9_I_*dy*feature_PCs.npz')"
   ]
  },
  {
   "cell_type": "code",
   "execution_count": 41,
   "id": "84f78e89-be08-4c39-a2a5-833ad4a49d69",
   "metadata": {},
   "outputs": [],
   "source": [
    "d458fn, nd458fn = glob('resources/run/UC9_I_*dy*458_PCs.npz')"
   ]
  },
  {
   "cell_type": "code",
   "execution_count": 42,
   "id": "808f93c3-68a6-4108-9da3-287821a881bb",
   "metadata": {},
   "outputs": [],
   "source": [
    "d157fn, nd157fn = glob('resources/run/UC9_I_*dy*157_PCs.npz')"
   ]
  },
  {
   "cell_type": "code",
   "execution_count": 43,
   "id": "b71a8284-cada-4f8a-ad86-8b0539c56f21",
   "metadata": {},
   "outputs": [
    {
     "data": {
      "text/plain": [
       "('resources/run/UC9_I_dysplasia_genes18157_PCs.npz',\n",
       " 'resources/run/UC9_I_non_dysplasia_genes18157_PCs.npz')"
      ]
     },
     "execution_count": 43,
     "metadata": {},
     "output_type": "execute_result"
    }
   ],
   "source": [
    "d157fn, nd157fn"
   ]
  },
  {
   "cell_type": "code",
   "execution_count": 44,
   "id": "52303caf-4282-43b8-8ea4-0782215b85a9",
   "metadata": {},
   "outputs": [
    {
     "data": {
      "text/plain": [
       "('resources/run/UC9_I_dysplasia_genes458_PCs.npz',\n",
       " 'resources/run/UC9_I_non_dysplasia_genes458_PCs.npz')"
      ]
     },
     "execution_count": 44,
     "metadata": {},
     "output_type": "execute_result"
    }
   ],
   "source": [
    "d458fn, nd458fn"
   ]
  },
  {
   "cell_type": "code",
   "execution_count": 45,
   "id": "dc534b7a-0280-4baf-af01-09d6cab6900e",
   "metadata": {},
   "outputs": [],
   "source": [
    "d458 = np_loadz(d458fn)\n",
    "nd458 = np_loadz(nd458fn)"
   ]
  },
  {
   "cell_type": "code",
   "execution_count": 46,
   "id": "563bddeb-4865-4c5f-8fd7-5abcb641bd8f",
   "metadata": {},
   "outputs": [],
   "source": [
    "d157 = np_loadz(d157fn)\n",
    "nd157 = np_loadz(nd157fn)"
   ]
  },
  {
   "cell_type": "code",
   "execution_count": 47,
   "id": "f9f203c1-1c34-4add-bb40-39d884dd97c4",
   "metadata": {},
   "outputs": [
    {
     "data": {
      "text/plain": [
       "array([[0., 0., 0., 0.],\n",
       "       [0., 0., 0., 0.],\n",
       "       [0., 0., 0., 0.],\n",
       "       [0., 0., 0., 0.]], dtype=float32)"
      ]
     },
     "execution_count": 47,
     "metadata": {},
     "output_type": "execute_result"
    }
   ],
   "source": [
    "d458[0:4,0:4]-nd458[0:4,0:4]"
   ]
  },
  {
   "cell_type": "code",
   "execution_count": 48,
   "id": "5a485624-882a-41ac-9f41-55292d133411",
   "metadata": {},
   "outputs": [
    {
     "data": {
      "text/plain": [
       "array([[0., 0., 0., 0.],\n",
       "       [0., 0., 0., 0.],\n",
       "       [0., 0., 0., 0.],\n",
       "       [0., 0., 0., 0.]], dtype=float32)"
      ]
     },
     "execution_count": 48,
     "metadata": {},
     "output_type": "execute_result"
    }
   ],
   "source": [
    "d157[0:4,0:4]-nd157[0:4,0:4]"
   ]
  },
  {
   "cell_type": "code",
   "execution_count": 49,
   "id": "a8d95cf5-180f-44a2-988f-aa6042b67503",
   "metadata": {},
   "outputs": [
    {
     "data": {
      "text/plain": [
       "((45712, 47), (45712, 50))"
      ]
     },
     "execution_count": 49,
     "metadata": {},
     "output_type": "execute_result"
    }
   ],
   "source": [
    "d458.shape, d157.shape"
   ]
  },
  {
   "cell_type": "code",
   "execution_count": 50,
   "id": "d0c4a9ed-0de3-4384-9912-6f9bc32fc4ea",
   "metadata": {},
   "outputs": [
    {
     "data": {
      "text/plain": [
       "((45712, 47), (45712, 50))"
      ]
     },
     "execution_count": 50,
     "metadata": {},
     "output_type": "execute_result"
    }
   ],
   "source": [
    "nd458.shape, nd157.shape"
   ]
  },
  {
   "cell_type": "code",
   "execution_count": 30,
   "id": "5a71beeb-7d02-464c-9127-6c4f94ef1049",
   "metadata": {},
   "outputs": [],
   "source": [
    "d18615 = np.hstack([d458, d157])"
   ]
  },
  {
   "cell_type": "code",
   "execution_count": 31,
   "id": "def011b5-78e9-40a1-8090-e6703eab5784",
   "metadata": {},
   "outputs": [],
   "source": [
    "nd18615 = np.hstack([nd458, nd157])"
   ]
  },
  {
   "cell_type": "code",
   "execution_count": 33,
   "id": "608b3cad-eb83-44f5-abcf-9140e1a8c11d",
   "metadata": {},
   "outputs": [],
   "source": [
    "np.savez_compressed('resources/run/UC9_I_dysplasia_genes18615.npz', d18615)"
   ]
  },
  {
   "cell_type": "code",
   "execution_count": 34,
   "id": "d1d76b90-29b4-41e5-86f9-9b0c85223a47",
   "metadata": {},
   "outputs": [],
   "source": [
    "np.savez_compressed('resources/run/UC9_I_non_dysplasia_genes18615.npz', nd18615)"
   ]
  },
  {
   "cell_type": "code",
   "execution_count": null,
   "id": "f2a0d5e5-272b-4f3c-90dc-db796b78d927",
   "metadata": {},
   "outputs": [],
   "source": [
    "    from gene_ranking import gene_ranking\n",
    "    prediction, df_gene_ranking = gene_ranking(prediction_cell_ids_no_cancer2, prediction_cell_ids_cancer2,\n",
    "                                   column_for_ranking=args.column_for_ranking, ascending=args.ascending)\n",
    "    \n",
    "    # Save the ranked genes to a CSV file -> to use for the inder function and crunchDAO crunch 3 submission\n",
    "    prediction.to_csv(os.path.join(model_directory_path, \"gene_ranking.csv\"))\n",
    "    \n",
    "    prediction['is460'] = prediction['Gene Name'].apply(lambda x: x in gene_460_names)\n",
    "    df = df_gene_ranking[['logFC']].copy()\n",
    "    df['is460'] = ['green' if gene in gene_460_names else 'red' for gene in df.index]\n",
    "    df['rank'] = [i+1 for i in range(len(df))]\n",
    "    \n",
    "    # Create the scatterplot\n",
    "    import matplotlib.pyplot as plt\n",
    "    plt.figure(figsize=(10, 6))\n",
    "    df_460 = df[df.is460 == 'green']\n",
    "    df_imputed = df[df.is460 != 'green']\n",
    "    plt.scatter(df_imputed['rank'].values, df_imputed['logFC'].values, c=df_imputed['is460'].values, s=0.1);\n",
    "    plt.scatter(df_460['rank'].values, df_460['logFC'].values, c=df_460['is460'].values, s=5);\n",
    "    \n",
    "    # Add labels and title\n",
    "    plt.xlabel('Row Number')\n",
    "    plt.ylabel('logFC')\n",
    "    plt.title('Scatterplot of logFC vs Row Number')\n",
    "    \n",
    "    # Create custom legend\n",
    "    import matplotlib.patches as mpatches\n",
    "    red_patch = mpatches.Patch(color='red', label='Imputed')\n",
    "    green_patch = mpatches.Patch(color='green', label='Assayed')\n",
    "    plt.legend(handles=[red_patch, green_patch]);\n",
    "    \n",
    "    plt.savefig('resources/logFC_plot.png', dpi=300, bbox_inches='tight')"
   ]
  }
 ],
 "metadata": {
  "kernelspec": {
   "display_name": "broad",
   "language": "python",
   "name": "broad"
  },
  "language_info": {
   "codemirror_mode": {
    "name": "ipython",
    "version": 3
   },
   "file_extension": ".py",
   "mimetype": "text/x-python",
   "name": "python",
   "nbconvert_exporter": "python",
   "pygments_lexer": "ipython3",
   "version": "3.10.16"
  }
 },
 "nbformat": 4,
 "nbformat_minor": 5
}
