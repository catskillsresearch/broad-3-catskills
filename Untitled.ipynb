{
 "cells": [
  {
   "cell_type": "markdown",
   "id": "dab9384b-b16b-4ae1-bee3-ae9e28209885",
   "metadata": {},
   "source": [
    "## Debug end of pipeline"
   ]
  },
  {
   "cell_type": "code",
   "execution_count": 1,
   "id": "59404a7c-1e16-44cc-8c8c-a5a80a187916",
   "metadata": {},
   "outputs": [
    {
     "name": "stdout",
     "output_type": "stream",
     "text": [
      "/home/catskills/Desktop/broad/broad-3-catskills\n"
     ]
    }
   ],
   "source": [
    "!pwd"
   ]
  },
  {
   "cell_type": "code",
   "execution_count": 4,
   "id": "3762f258-f593-4c3f-9bb4-4dca9d06d6f9",
   "metadata": {},
   "outputs": [],
   "source": [
    "import os\n",
    "from glob import glob\n",
    "from np_loadz import np_loadz\n",
    "import numpy as np"
   ]
  },
  {
   "cell_type": "code",
   "execution_count": 5,
   "id": "0fb3721d-41e5-4608-adff-7354fd3d34e9",
   "metadata": {},
   "outputs": [
    {
     "name": "stdout",
     "output_type": "stream",
     "text": [
      "resources/run/UC9_I_dysplasia_genes18157.npz\n",
      "resources/run/UC9_I_dysplasia_genes18157_PCs.npz\n",
      "resources/run/UC9_I_dysplasia_genes18615.npz\n",
      "resources/run/UC9_I_dysplasia_genes458.npz\n",
      "resources/run/UC9_I_dysplasia_genes458_PCs.npz\n",
      "resources/run/UC9_I_non_dysplasia_genes18157.npz\n",
      "resources/run/UC9_I_non_dysplasia_genes18157_PCs.npz\n",
      "resources/run/UC9_I_non_dysplasia_genes18615.npz\n",
      "resources/run/UC9_I_non_dysplasia_genes458.npz\n",
      "resources/run/UC9_I_non_dysplasia_genes458_PCs.npz\n"
     ]
    }
   ],
   "source": [
    "!ls resources/run/*dys*genes*.npz"
   ]
  },
  {
   "cell_type": "code",
   "execution_count": null,
   "id": "0706be0d-f767-46c0-aded-8724e5f37b4e",
   "metadata": {},
   "outputs": [],
   "source": [
    "dfn, ndfn =glob('resources/run/UC9_I_*dy*genes18157.npz')\n",
    "d = np_loadz(dfn)\n",
    "nd = np_loadz(ndfn)"
   ]
  },
  {
   "cell_type": "code",
   "execution_count": 100,
   "id": "eddd1d56-d478-4076-8c4b-9b8eda79a064",
   "metadata": {},
   "outputs": [
    {
     "data": {
      "text/plain": [
       "array([[0.00000000e+00, 2.04830992e-01, 0.00000000e+00, 0.00000000e+00],\n",
       "       [0.00000000e+00, 2.70152524e-01, 6.98573171e-17, 1.99396494e-03],\n",
       "       [0.00000000e+00, 2.78167292e-01, 3.97617599e-17, 1.85900942e-03],\n",
       "       [0.00000000e+00, 3.30827583e-01, 8.05925675e-17, 2.07556259e-03]])"
      ]
     },
     "execution_count": 100,
     "metadata": {},
     "output_type": "execute_result"
    }
   ],
   "source": [
    "nd[0:4,0:4]"
   ]
  },
  {
   "cell_type": "code",
   "execution_count": 103,
   "id": "c123882a-ead7-42a5-949a-6d5d59fc8b9f",
   "metadata": {},
   "outputs": [
    {
     "data": {
      "text/plain": [
       "array([[ 2.57019044e-16,  2.03576740e-01,  1.72791302e-16,\n",
       "         6.93475375e-03],\n",
       "       [ 0.00000000e+00,  5.49612820e-02, -6.98573171e-17,\n",
       "         4.44041803e-05],\n",
       "       [ 0.00000000e+00,  1.52758850e-02, -3.72076269e-17,\n",
       "        -9.60982476e-05],\n",
       "       [ 2.66813529e-16,  1.34061538e-01,  4.92305667e-17,\n",
       "         3.36185288e-03]])"
      ]
     },
     "execution_count": 103,
     "metadata": {},
     "output_type": "execute_result"
    }
   ],
   "source": [
    " d[0:4,0:4]-nd[0:4,0:4]"
   ]
  },
  {
   "cell_type": "code",
   "execution_count": 104,
   "id": "86c588bf-db6c-44c4-aeca-1e16a283f25e",
   "metadata": {},
   "outputs": [
    {
     "data": {
      "text/plain": [
       "['resources/run/UC9_I_non_dysplasia_feature_PCs.npz',\n",
       " 'resources/run/UC9_I_dysplasia_feature_PCs.npz']"
      ]
     },
     "execution_count": 104,
     "metadata": {},
     "output_type": "execute_result"
    }
   ],
   "source": [
    " glob('resources/run/UC9_I_*dy*feature_PCs.npz')"
   ]
  },
  {
   "cell_type": "code",
   "execution_count": 105,
   "id": "e13e7de0-8b2a-4782-bf5b-a694b34b0bbf",
   "metadata": {},
   "outputs": [],
   "source": [
    "d458fn, nd458fn = glob('resources/run/UC9_I_*dy*feature_PCs.npz')"
   ]
  },
  {
   "cell_type": "code",
   "execution_count": 121,
   "id": "84f78e89-be08-4c39-a2a5-833ad4a49d69",
   "metadata": {},
   "outputs": [],
   "source": [
    "d458fn, nd458fn = glob('resources/run/UC9_I_*dy*458.npz')"
   ]
  },
  {
   "cell_type": "code",
   "execution_count": 122,
   "id": "808f93c3-68a6-4108-9da3-287821a881bb",
   "metadata": {},
   "outputs": [],
   "source": [
    "d157fn, nd157fn = glob('resources/run/UC9_I_*dy*157.npz')"
   ]
  },
  {
   "cell_type": "code",
   "execution_count": 123,
   "id": "b71a8284-cada-4f8a-ad86-8b0539c56f21",
   "metadata": {},
   "outputs": [
    {
     "data": {
      "text/plain": [
       "('resources/run/UC9_I_dysplasia_genes18157.npz',\n",
       " 'resources/run/UC9_I_non_dysplasia_genes18157.npz')"
      ]
     },
     "execution_count": 123,
     "metadata": {},
     "output_type": "execute_result"
    }
   ],
   "source": [
    "d157fn, nd157fn"
   ]
  },
  {
   "cell_type": "code",
   "execution_count": 124,
   "id": "52303caf-4282-43b8-8ea4-0782215b85a9",
   "metadata": {},
   "outputs": [
    {
     "data": {
      "text/plain": [
       "('resources/run/UC9_I_dysplasia_genes458.npz',\n",
       " 'resources/run/UC9_I_non_dysplasia_genes458.npz')"
      ]
     },
     "execution_count": 124,
     "metadata": {},
     "output_type": "execute_result"
    }
   ],
   "source": [
    "d458fn, nd458fn"
   ]
  },
  {
   "cell_type": "code",
   "execution_count": 125,
   "id": "dc534b7a-0280-4baf-af01-09d6cab6900e",
   "metadata": {},
   "outputs": [],
   "source": [
    "d458 = np_loadz(d458fn)\n",
    "nd458 = np_loadz(nd458fn)"
   ]
  },
  {
   "cell_type": "code",
   "execution_count": 126,
   "id": "f9f203c1-1c34-4add-bb40-39d884dd97c4",
   "metadata": {},
   "outputs": [
    {
     "data": {
      "text/plain": [
       "array([[ 0.05727464, -0.00414336,  0.10131174,  0.07956895],\n",
       "       [ 0.44903573, -0.0176308 ,  0.473314  ,  0.06753674],\n",
       "       [ 0.07150239, -0.00367186,  0.15861967,  0.00433817],\n",
       "       [ 0.34019145, -0.00456059,  0.3588047 ,  0.08007903]],\n",
       "      dtype=float32)"
      ]
     },
     "execution_count": 126,
     "metadata": {},
     "output_type": "execute_result"
    }
   ],
   "source": [
    "d458[0:4,0:4]-nd458[0:4,0:4]"
   ]
  },
  {
   "cell_type": "code",
   "execution_count": 127,
   "id": "563bddeb-4865-4c5f-8fd7-5abcb641bd8f",
   "metadata": {},
   "outputs": [],
   "source": [
    "d157 = np_loadz(d157fn)\n",
    "nd157 = np_loadz(nd157fn)"
   ]
  },
  {
   "cell_type": "code",
   "execution_count": 128,
   "id": "48af4491-3a15-453c-b570-70612592edb6",
   "metadata": {},
   "outputs": [
    {
     "data": {
      "text/plain": [
       "array([[ 2.57019044e-16,  2.03576740e-01,  1.72791302e-16,\n",
       "         6.93475375e-03],\n",
       "       [ 0.00000000e+00,  5.49612820e-02, -6.98573171e-17,\n",
       "         4.44041803e-05],\n",
       "       [ 0.00000000e+00,  1.52758850e-02, -3.72076269e-17,\n",
       "        -9.60982476e-05],\n",
       "       [ 2.66813529e-16,  1.34061538e-01,  4.92305667e-17,\n",
       "         3.36185288e-03]])"
      ]
     },
     "execution_count": 128,
     "metadata": {},
     "output_type": "execute_result"
    }
   ],
   "source": [
    "d157[0:4,0:4]-nd157[0:4,0:4]"
   ]
  },
  {
   "cell_type": "code",
   "execution_count": 129,
   "id": "5a71beeb-7d02-464c-9127-6c4f94ef1049",
   "metadata": {},
   "outputs": [],
   "source": [
    "d18615 = np.hstack([d458, d157])"
   ]
  },
  {
   "cell_type": "code",
   "execution_count": 130,
   "id": "def011b5-78e9-40a1-8090-e6703eab5784",
   "metadata": {},
   "outputs": [],
   "source": [
    "nd18615 = np.hstack([nd458, nd157])"
   ]
  },
  {
   "cell_type": "code",
   "execution_count": 131,
   "id": "fc51629a-4723-4755-81f4-e1f5e20b6fa6",
   "metadata": {},
   "outputs": [
    {
     "data": {
      "text/plain": [
       "((45712, 18615), (90491, 18615))"
      ]
     },
     "execution_count": 131,
     "metadata": {},
     "output_type": "execute_result"
    }
   ],
   "source": [
    "d18615.shape, nd18615.shape"
   ]
  },
  {
   "cell_type": "code",
   "execution_count": 7,
   "id": "e76c9f9c-1655-4319-a8d2-373ca096589d",
   "metadata": {},
   "outputs": [
    {
     "name": "stdout",
     "output_type": "stream",
     "text": [
      "-rw-rw-r-- 1 catskills catskills 5117736938 Apr 28 14:52 resources/run/UC9_I_dysplasia_genes18615.npz\n",
      "-rw-rw-r-- 1 catskills catskills 6336066441 Apr 28 14:56 resources/run/UC9_I_non_dysplasia_genes18615.npz\n"
     ]
    }
   ],
   "source": [
    "!ls -l resources/run/UC9_I*asia_genes18615.npz"
   ]
  },
  {
   "cell_type": "code",
   "execution_count": 132,
   "id": "608b3cad-eb83-44f5-abcf-9140e1a8c11d",
   "metadata": {},
   "outputs": [],
   "source": [
    "np.savez_compressed('resources/run/UC9_I_dysplasia_genes18615.npz', d18615)"
   ]
  },
  {
   "cell_type": "code",
   "execution_count": null,
   "id": "d1d76b90-29b4-41e5-86f9-9b0c85223a47",
   "metadata": {},
   "outputs": [],
   "source": [
    "np.savez_compressed('resources/run/UC9_I_non_dysplasia_genes18615.npz', nd18615)"
   ]
  },
  {
   "cell_type": "code",
   "execution_count": null,
   "id": "f2a0d5e5-272b-4f3c-90dc-db796b78d927",
   "metadata": {},
   "outputs": [],
   "source": [
    "    from gene_ranking import gene_ranking\n",
    "    prediction, df_gene_ranking = gene_ranking(prediction_cell_ids_no_cancer2, prediction_cell_ids_cancer2,\n",
    "                                   column_for_ranking=args.column_for_ranking, ascending=args.ascending)\n",
    "    \n",
    "    # Save the ranked genes to a CSV file -> to use for the inder function and crunchDAO crunch 3 submission\n",
    "    prediction.to_csv(os.path.join(model_directory_path, \"gene_ranking.csv\"))\n",
    "    \n",
    "    prediction['is460'] = prediction['Gene Name'].apply(lambda x: x in gene_460_names)\n",
    "    df = df_gene_ranking[['logFC']].copy()\n",
    "    df['is460'] = ['green' if gene in gene_460_names else 'red' for gene in df.index]\n",
    "    df['rank'] = [i+1 for i in range(len(df))]\n",
    "    \n",
    "    # Create the scatterplot\n",
    "    import matplotlib.pyplot as plt\n",
    "    plt.figure(figsize=(10, 6))\n",
    "    df_460 = df[df.is460 == 'green']\n",
    "    df_imputed = df[df.is460 != 'green']\n",
    "    plt.scatter(df_imputed['rank'].values, df_imputed['logFC'].values, c=df_imputed['is460'].values, s=0.1);\n",
    "    plt.scatter(df_460['rank'].values, df_460['logFC'].values, c=df_460['is460'].values, s=5);\n",
    "    \n",
    "    # Add labels and title\n",
    "    plt.xlabel('Row Number')\n",
    "    plt.ylabel('logFC')\n",
    "    plt.title('Scatterplot of logFC vs Row Number')\n",
    "    \n",
    "    # Create custom legend\n",
    "    import matplotlib.patches as mpatches\n",
    "    red_patch = mpatches.Patch(color='red', label='Imputed')\n",
    "    green_patch = mpatches.Patch(color='green', label='Assayed')\n",
    "    plt.legend(handles=[red_patch, green_patch]);\n",
    "    \n",
    "    plt.savefig('resources/logFC_plot.png', dpi=300, bbox_inches='tight')"
   ]
  }
 ],
 "metadata": {
  "kernelspec": {
   "display_name": "broad",
   "language": "python",
   "name": "broad"
  },
  "language_info": {
   "codemirror_mode": {
    "name": "ipython",
    "version": 3
   },
   "file_extension": ".py",
   "mimetype": "text/x-python",
   "name": "python",
   "nbconvert_exporter": "python",
   "pygments_lexer": "ipython3",
   "version": "3.10.16"
  }
 },
 "nbformat": 4,
 "nbformat_minor": 5
}
