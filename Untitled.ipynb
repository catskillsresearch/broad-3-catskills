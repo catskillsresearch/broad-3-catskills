{
 "cells": [
  {
   "cell_type": "markdown",
   "id": "dab9384b-b16b-4ae1-bee3-ae9e28209885",
   "metadata": {},
   "source": [
    "## Debug end of pipeline"
   ]
  },
  {
   "cell_type": "code",
   "execution_count": null,
   "id": "59404a7c-1e16-44cc-8c8c-a5a80a187916",
   "metadata": {},
   "outputs": [],
   "source": [
    "!pwd"
   ]
  },
  {
   "cell_type": "code",
   "execution_count": null,
   "id": "f169ee36-9378-4a39-ae13-4580f0544096",
   "metadata": {},
   "outputs": [],
   "source": [
    "import os\n",
    "from glob import glob\n",
    "from np_loadz import np_loadz\n",
    "import numpy as np\n",
    "import pandas as pd\n",
    "\n",
    "d18615 = np_loadz('resources/run/UC9_I_dysplasia_genes18615.npz')\n",
    "nd18615 = np_loadz('resources/run/UC9_I_non_dysplasia_genes18615.npz')\n",
    "\n",
    "import json\n",
    "with open('resources/run/genes18615.json', 'r') as f:\n",
    "    genes = json.load(f)\n",
    "\n",
    "import json\n",
    "with open('resources/run/genes460.json', 'r') as f:\n",
    "    genes460 = json.load(f)\n",
    "\n",
    "prediction_cell_ids_no_cancer = pd.DataFrame(nd18615, columns=genes)\n",
    "prediction_cell_ids_cancer = pd.DataFrame(d18615, columns=genes)\n",
    "\n",
    "from gene_ranking import gene_ranking\n",
    "prediction, df_gene_ranking = gene_ranking(prediction_cell_ids_no_cancer, prediction_cell_ids_cancer)\n",
    "\n",
    "# Save the ranked genes to a CSV file -> to use for the inder function and crunchDAO crunch 3 submission\n",
    "prediction.to_csv(os.path.join('resources/gene_ranking.csv'))\n",
    "\n",
    "prediction['is460'] = prediction['Gene Name'].apply(lambda x: x in genes460)\n",
    "df = df_gene_ranking[['logFC']].copy()\n",
    "df['is460'] = ['green' if gene in genes460 else 'red' for gene in df.index]\n",
    "df['rank'] = [i+1 for i in range(len(df))]\n",
    "\n",
    "# Create the scatterplot\n",
    "import matplotlib.pyplot as plt\n",
    "plt.figure(figsize=(10, 6))\n",
    "df_460 = df[df.is460 == 'green']\n",
    "df_imputed = df[df.is460 != 'green']\n",
    "plt.scatter(df_imputed['rank'].values, df_imputed['logFC'].values, c=df_imputed['is460'].values, s=0.1);\n",
    "plt.scatter(df_460['rank'].values, df_460['logFC'].values, c=df_460['is460'].values, s=5);\n",
    "\n",
    "# Add labels and title\n",
    "plt.xlabel('Sort index by descending abs log fold change')\n",
    "plt.ylabel('logFC')\n",
    "plt.title('Scatterplot of logFC vs Imputed or Assayed')\n",
    "\n",
    "# Create custom legend\n",
    "import matplotlib.patches as mpatches\n",
    "red_patch = mpatches.Patch(color='red', label='Imputed')\n",
    "green_patch = mpatches.Patch(color='green', label='Assayed')\n",
    "plt.legend(handles=[red_patch, green_patch]);\n",
    "\n",
    "plt.savefig('resources/logFC_plot.png', dpi=300, bbox_inches='tight')"
   ]
  },
  {
   "cell_type": "code",
   "execution_count": null,
   "id": "80db4cc1-8b28-4077-bf11-02264d1810b4",
   "metadata": {},
   "outputs": [],
   "source": []
  }
 ],
 "metadata": {
  "kernelspec": {
   "display_name": "broad",
   "language": "python",
   "name": "broad"
  },
  "language_info": {
   "codemirror_mode": {
    "name": "ipython",
    "version": 3
   },
   "file_extension": ".py",
   "mimetype": "text/x-python",
   "name": "python",
   "nbconvert_exporter": "python",
   "pygments_lexer": "ipython3",
   "version": "3.10.16"
  }
 },
 "nbformat": 4,
 "nbformat_minor": 5
}
