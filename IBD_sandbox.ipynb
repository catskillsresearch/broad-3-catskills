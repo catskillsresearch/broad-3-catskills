{
 "cells": [
  {
   "cell_type": "markdown",
   "id": "4212e81b-8e02-4dfe-9932-2d674b7a1f06",
   "metadata": {},
   "source": [
    "# Rank all 18615 protein-coding genes based on ability to distinguish dysplastic from non-cancerous tissue"
   ]
  },
  {
   "cell_type": "markdown",
   "id": "2c01e4d0-7576-4aa9-8e34-275141997088",
   "metadata": {
    "editable": true,
    "slideshow": {
     "slide_type": ""
    },
    "tags": []
   },
   "source": [
    "## Imports"
   ]
  },
  {
   "cell_type": "code",
   "execution_count": 1,
   "id": "920bd7a5-df05-4390-8f6c-f5212318c018",
   "metadata": {
    "editable": true,
    "slideshow": {
     "slide_type": ""
    },
    "tags": []
   },
   "outputs": [],
   "source": [
    "%load_ext autoreload\n",
    "%autoreload 2"
   ]
  },
  {
   "cell_type": "markdown",
   "id": "eb8662b9-5b50-469f-ac0d-e070aca59952",
   "metadata": {},
   "source": [
    "## Crunch 1 Train"
   ]
  },
  {
   "cell_type": "markdown",
   "id": "019cfb16-ea3c-4f2c-abe4-3e1de931953f",
   "metadata": {
    "editable": true,
    "slideshow": {
     "slide_type": ""
    },
    "tags": []
   },
   "source": [
    "1. Prepare the input data by preprocessing the spatial transcriptomics datasets (image patches (X) and gene expression (Y)).\n",
    "2. Create leave-one-out cross-validation splits for training and testing.\n",
    "3. Use the specified encoder model (ResNet50) and a regression method (ridge regression) to train the model\n",
    "4. Save the results and the trained model in the `.resources/` directories for later inference.\n",
    "\n",
    "![train_architecture](https://raw.githubusercontent.com/crunchdao/competitions/refs/heads/master/competitions/broad-1/quickstarters/resnet50-plus-ridge/images/train_architecture.png)\n",
    "\n",
    "`Y` is log1p-normalized with scale factor 100.\n",
    "\n",
    "All regression models and metric results are saved in `./resources/ST_pred_results` -- check it out!\n",
    "\n",
    "Preprocessed datasets are saved in `resources/processed_dataset` (temporary storage - not needed for inference).\n",
    "\n",
    "Official challenge metric: L2 mean error (`l2_errors_mean`)"
   ]
  },
  {
   "cell_type": "code",
   "execution_count": 2,
   "id": "7f26200d-3496-4585-a8d1-1463d6b043ad",
   "metadata": {
    "editable": true,
    "slideshow": {
     "slide_type": ""
    },
    "tags": []
   },
   "outputs": [],
   "source": [
    "data_directory_path='./data'\n",
    "model_directory_path=\"./resources\""
   ]
  },
  {
   "cell_type": "code",
   "execution_count": 3,
   "id": "644c5ea6-f6e8-402f-b1ba-db98285adad7",
   "metadata": {
    "editable": true,
    "slideshow": {
     "slide_type": ""
    },
    "tags": []
   },
   "outputs": [
    {
     "name": "stderr",
     "output_type": "stream",
     "text": [
      "/usr/lib/python3.10/importlib/__init__.py:126: FutureWarning: The legacy Dask DataFrame implementation is deprecated and will be removed in a future version. Set the configuration option `dataframe.query-planning` to `True` or None to enable the new Dask Dataframe implementation and silence this warning.\n",
      "  return _bootstrap._gcd_import(name[level:], package, level)\n"
     ]
    }
   ],
   "source": [
    "import os\n",
    "from extract_spatial_positions import *\n",
    "from run_training import *\n",
    "from args1 import args1"
   ]
  },
  {
   "cell_type": "code",
   "execution_count": 5,
   "id": "1209a056-7877-4da0-80f9-8cd706b17469",
   "metadata": {
    "editable": true,
    "slideshow": {
     "slide_type": ""
    },
    "tags": []
   },
   "outputs": [
    {
     "name": "stdout",
     "output_type": "stream",
     "text": [
      "\n",
      " -- PREPROCESS SPATIAL TRANSCRIPTOMICS DATASET --------------------------------------------\n",
      "\n",
      "\n",
      "DATA (1/2): UC1_I\n",
      "\n",
      "zarr_path ./data/UC1_I.zarr True\n"
     ]
    },
    {
     "name": "stderr",
     "output_type": "stream",
     "text": [
      "/home/catskills/Desktop/broad/broad/lib/python3.10/site-packages/zarr/creation.py:614: UserWarning: ignoring keyword argument 'read_only'\n",
      "  compressor, fill_value = _kwargs_compat(compressor, fill_value, kwargs)\n"
     ]
    },
    {
     "name": "stdout",
     "output_type": "stream",
     "text": [
      "resources/processed_dataset/patches/UC1_I.h5 exists\n",
      "\n",
      "DATA (2/2): UC9_I\n",
      "\n",
      "zarr_path ./data/UC9_I.zarr True\n"
     ]
    },
    {
     "name": "stderr",
     "output_type": "stream",
     "text": [
      "/home/catskills/Desktop/broad/broad/lib/python3.10/site-packages/zarr/creation.py:614: UserWarning: ignoring keyword argument 'read_only'\n",
      "  compressor, fill_value = _kwargs_compat(compressor, fill_value, kwargs)\n"
     ]
    },
    {
     "name": "stdout",
     "output_type": "stream",
     "text": [
      "Sampling the dataset ...\n",
      "resources/processed_dataset/patches/UC9_I.h5 exists\n",
      "\n",
      " -- CREATE CROSS-VALIDATION SPLITS --------------------------------------------\n",
      "\n",
      "Index 0:\n",
      "Train DataFrame:\n",
      "  sample_id      patches_path         expr_path\n",
      "1     UC1_I  patches/UC1_I.h5  adata/UC1_I.h5ad\n",
      "Test DataFrame:\n",
      "  sample_id      patches_path         expr_path\n",
      "0     UC9_I  patches/UC9_I.h5  adata/UC9_I.h5ad\n",
      "Saved train_0.csv and test_0.csv\n",
      "Index 1:\n",
      "Train DataFrame:\n",
      "  sample_id      patches_path         expr_path\n",
      "0     UC9_I  patches/UC9_I.h5  adata/UC9_I.h5ad\n",
      "Test DataFrame:\n",
      "  sample_id      patches_path         expr_path\n",
      "1     UC1_I  patches/UC1_I.h5  adata/UC1_I.h5ad\n",
      "Saved train_1.csv and test_1.csv\n",
      "\n",
      "-- RUN TRAINING ---------------------------------------------------------------\n",
      "\n",
      "run parameters namespace(size_subset=None, target_patch_size=32, show_extracted_images=False, vis_width=1000, seed=1, overwrite=False, dir_dataset='resources/processed_dataset', embed_dataroot='resources/processed_dataset/ST_data_emb', results_dir='./resources/ST_pred_results', n_fold=2, batch_size=128, num_workers=0, gene_list='var_genes.json', method='ridge', alpha=None, normalize=False, encoder='resnet50', weights_root='./resources/pytorch_model.bin')\n",
      "\n",
      "--FOLD 0--\n",
      "\n",
      "train_split resources/processed_dataset/splits/train_0.csv True\n",
      "\n",
      "--EMBEDDING--\n",
      "\n",
      "Embedding tiles using resnet50 encoder\n",
      "Load pretrained Resnet50 offline from weights path: ./resources/pytorch_model.bin\n",
      "\n",
      "GENERATE EMBEDDING - UC1_I\n",
      "\n",
      "Skipping embedding UC1_I.h5 as it already exists\n",
      "\n",
      "GENERATE EMBEDDING - UC9_I\n",
      "\n",
      "Skipping embedding UC9_I.h5 as it already exists\n"
     ]
    },
    {
     "name": "stderr",
     "output_type": "stream",
     "text": [
      "100%|██████████████████████████████████████████████████████████████████████████████████████████████████████████████████| 1/1 [00:01<00:00,  1.41s/it]\n"
     ]
    },
    {
     "name": "stdout",
     "output_type": "stream",
     "text": [
      "Loaded train split with 202534 samples: (202534, 1024)\n"
     ]
    },
    {
     "name": "stderr",
     "output_type": "stream",
     "text": [
      "100%|██████████████████████████████████████████████████████████████████████████████████████████████████████████████████| 1/1 [00:01<00:00,  1.40s/it]\n"
     ]
    },
    {
     "name": "stdout",
     "output_type": "stream",
     "text": [
      "Loaded test split with 196937 samples: (196937, 1024)\n",
      "\n",
      "--REGRESSION--\n",
      "\n",
      "Ridge: using alpha: 0.0002122961956521739\n"
     ]
    },
    {
     "name": "stderr",
     "output_type": "stream",
     "text": [
      "/home/catskills/Desktop/broad/broad/lib/python3.10/site-packages/sklearn/linear_model/_ridge.py:994: LinAlgWarning: Ill-conditioned matrix (rcond=9.87372e-11): result may not be accurate.\n",
      "  self.coef_, self.n_iter_, self.solver_ = _ridge_regression(\n"
     ]
    },
    {
     "name": "stdout",
     "output_type": "stream",
     "text": [
      "Model saved in './resources/ST_pred_results/split0/model.pkl'\n",
      "\n",
      "--FOLD 0 RESULTS--\n",
      "\n",
      "{'n_train': 202534, 'n_test': 196937, 'pearson_mean': 0.1374, 'l2_errors_mean': 0.1069, 'r2_scores_mean': -0.2735, 'l2_error_q1': 0.0165, 'l2_error_q2': 0.0596, 'l2_error_q3': 0.1451}\n",
      "\n",
      "--FOLD 1--\n",
      "\n",
      "train_split resources/processed_dataset/splits/train_1.csv True\n",
      "\n",
      "--EMBEDDING--\n",
      "\n",
      "Embedding tiles using resnet50 encoder\n",
      "Load pretrained Resnet50 offline from weights path: ./resources/pytorch_model.bin\n",
      "\n",
      "GENERATE EMBEDDING - UC9_I\n",
      "\n",
      "Skipping embedding UC9_I.h5 as it already exists\n",
      "\n",
      "GENERATE EMBEDDING - UC1_I\n",
      "\n",
      "Skipping embedding UC1_I.h5 as it already exists\n"
     ]
    },
    {
     "name": "stderr",
     "output_type": "stream",
     "text": [
      "100%|██████████████████████████████████████████████████████████████████████████████████████████████████████████████████| 1/1 [00:01<00:00,  1.36s/it]\n"
     ]
    },
    {
     "name": "stdout",
     "output_type": "stream",
     "text": [
      "Loaded train split with 196937 samples: (196937, 1024)\n"
     ]
    },
    {
     "name": "stderr",
     "output_type": "stream",
     "text": [
      "100%|██████████████████████████████████████████████████████████████████████████████████████████████████████████████████| 1/1 [00:01<00:00,  1.44s/it]\n"
     ]
    },
    {
     "name": "stdout",
     "output_type": "stream",
     "text": [
      "Loaded test split with 202534 samples: (202534, 1024)\n",
      "\n",
      "--REGRESSION--\n",
      "\n",
      "Ridge: using alpha: 0.0002122961956521739\n"
     ]
    },
    {
     "name": "stderr",
     "output_type": "stream",
     "text": [
      "/home/catskills/Desktop/broad/broad/lib/python3.10/site-packages/sklearn/linear_model/_ridge.py:994: LinAlgWarning: Ill-conditioned matrix (rcond=3.75306e-11): result may not be accurate.\n",
      "  self.coef_, self.n_iter_, self.solver_ = _ridge_regression(\n"
     ]
    },
    {
     "name": "stdout",
     "output_type": "stream",
     "text": [
      "Model saved in './resources/ST_pred_results/split1/model.pkl'\n",
      "\n",
      "--FOLD 1 RESULTS--\n",
      "\n",
      "{'n_train': 196937, 'n_test': 202534, 'pearson_mean': 0.1056, 'l2_errors_mean': 0.1059, 'r2_scores_mean': -0.1746, 'l2_error_q1': 0.016, 'l2_error_q2': 0.0488, 'l2_error_q3': 0.1385}\n",
      "\n",
      "-- TRAINING DONE ---------------------------------------------------------------\n",
      "\n",
      "\n",
      "-- Leave-one-out CV performance ---------------------------------------------------------------\n",
      "{'encoder_name': 'resnet50', 'pearson_mean': 0.1215, 'pearson_std': 0.0159}\n"
     ]
    }
   ],
   "source": [
    "args, dir_processed_dataset, dir_models_and_results, list_ST_name_data = args1(model_directory_path)\n",
    "preprocess_spatial_transcriptomics_data_train(list_ST_name_data, data_directory_path, dir_processed_dataset,\n",
    "                                              args.size_subset, args.target_patch_size, args.vis_width, args.show_extracted_images)\n",
    "create_cross_validation_splits(dir_processed_dataset, n_fold=args.n_fold)\n",
    "run_training(args)"
   ]
  },
  {
   "cell_type": "markdown",
   "id": "850abc7d-e6e0-46e3-9fd2-fe9d0ef07e00",
   "metadata": {
    "editable": true,
    "slideshow": {
     "slide_type": ""
    },
    "tags": []
   },
   "source": [
    "## Crunch 1 Infer"
   ]
  },
  {
   "cell_type": "code",
   "execution_count": 6,
   "id": "81a4952a-6d94-4c2d-b285-cf32de8113af",
   "metadata": {
    "editable": true,
    "slideshow": {
     "slide_type": ""
    },
    "tags": []
   },
   "outputs": [],
   "source": [
    "from infer_crunch_1 import infer_crunch_1"
   ]
  },
  {
   "cell_type": "markdown",
   "id": "7c578dc4-fc25-4bdb-a9ba-517b86a874ab",
   "metadata": {
    "editable": true,
    "slideshow": {
     "slide_type": ""
    },
    "tags": []
   },
   "source": [
    "## Crunch 2 Infer"
   ]
  },
  {
   "cell_type": "markdown",
   "id": "a63261ca-40bd-4b32-83c6-c622ac6562e7",
   "metadata": {},
   "source": [
    "1. Prepare the necessary directories and load the configuration parameters from the previously trained model.\n",
    "2. The test data, provided as a Zarr file, is read and specific subsets of the data (test and validation groups) are extracted.\n",
    "3. Preprocess the data into image patches (X_test).\n",
    "4. Generate embeddings for the test data and applies the trained models for regression predictions on the 460 measured genes.\n",
    "5. Apply cosine similarities between predictions and single-cell RNA sequencing from shared genes.\n",
    "6. Compute weighted average of unmeasured genes from scRNA-Seq based on similarity scores.\n",
    "7. Format the predictions of the 2000 unmeasured genes for submission."
   ]
  },
  {
   "cell_type": "code",
   "execution_count": 7,
   "id": "1f319830-8aaa-4fc9-952e-11edadf15a74",
   "metadata": {},
   "outputs": [],
   "source": [
    "from infer_crunch_2 import infer_crunch_2"
   ]
  },
  {
   "cell_type": "markdown",
   "id": "05b140dc-2485-4053-b34d-bc5dbc1aef07",
   "metadata": {
    "editable": true,
    "slideshow": {
     "slide_type": ""
    },
    "tags": []
   },
   "source": [
    "## Crunch 3 Infer"
   ]
  },
  {
   "cell_type": "code",
   "execution_count": 8,
   "id": "f8c4873f-3557-4ceb-96c6-bb71f86743b0",
   "metadata": {
    "editable": true,
    "slideshow": {
     "slide_type": ""
    },
    "tags": []
   },
   "outputs": [
    {
     "name": "stderr",
     "output_type": "stream",
     "text": [
      "/home/catskills/Desktop/broad/broad/lib/python3.10/site-packages/zarr/creation.py:614: UserWarning: ignoring keyword argument 'read_only'\n",
      "  compressor, fill_value = _kwargs_compat(compressor, fill_value, kwargs)\n",
      "100%|█████████████████████████████████████████████████████████████████████████████████████████████████████| 460243/460243 [00:17<00:00, 26992.63it/s]\n"
     ]
    },
    {
     "name": "stdout",
     "output_type": "stream",
     "text": [
      "\n",
      "-- UC9_I no cancer INFERENCE ---------------------------------------------------------------\n",
      "\n",
      "\n",
      "** UC9_I no cancer Predict the expression of 460 genes (Crunch 1) ****************************************************************\n",
      "\n",
      "\n",
      " -- PREPROCESS SPATIAL TRANSCRIPTOMICS DATASET --------------------------------------------\n",
      "\n",
      "Extracting spatial positions ...\n"
     ]
    },
    {
     "name": "stderr",
     "output_type": "stream",
     "text": [
      "100%|██████████████████████████████████████████████████████████████████████████████████████████████████████| 460243/460243 [03:15<00:00, 2354.20it/s]\n"
     ]
    },
    {
     "name": "stdout",
     "output_type": "stream",
     "text": [
      "resources/processed_dataset/patches/UC9_I no cancer.h5 does not exist\n",
      "Loading imgs ...\n",
      "Patching: create image dataset (X) ...\n"
     ]
    },
    {
     "name": "stderr",
     "output_type": "stream",
     "text": [
      "100%|████████████████████████████████████████████████████████████████████████████████████████████████████████| 90491/90491 [01:30<00:00, 1003.06it/s]\n"
     ]
    },
    {
     "name": "stdout",
     "output_type": "stream",
     "text": [
      "Visualization\n",
      "\n",
      "Preprocess dataset DONE\n",
      "\n",
      "\n",
      "--UC9_I no cancer EMBEDDING--\n",
      "\n",
      "Embedding images using resnet50 encoder\n",
      "Load pretrained Resnet50 offline from weights path: ./resources/pytorch_model.bin\n",
      "Generating embeddings for resources/processed_dataset/ST_data_emb/UC9_I no cancer.h5 ...\n"
     ]
    },
    {
     "name": "stderr",
     "output_type": "stream",
     "text": [
      "100%|██████████████████████████████████████████████████████████████████████████████████████████████████████████████| 707/707 [00:16<00:00, 43.26it/s]\n"
     ]
    },
    {
     "name": "stdout",
     "output_type": "stream",
     "text": [
      "Embedding shape (X_test): (90491, 1024)\n",
      "\n",
      "--UC9_I no cancer REGRESSION PREDICTIONS--\n",
      "\n",
      "Loaded model from ./resources/ST_pred_results/split1/model.pkl\n",
      "Loaded model from ./resources/ST_pred_results/split0/model.pkl\n",
      "\n",
      " Predictions shape: (90491, 460)\n",
      "\n",
      "-- UC9_I cancer INFERENCE ---------------------------------------------------------------\n",
      "\n",
      "\n",
      "** UC9_I cancer Predict the expression of 460 genes (Crunch 1) ****************************************************************\n",
      "\n",
      "\n",
      " -- PREPROCESS SPATIAL TRANSCRIPTOMICS DATASET --------------------------------------------\n",
      "\n",
      "Extracting spatial positions ...\n"
     ]
    },
    {
     "name": "stderr",
     "output_type": "stream",
     "text": [
      "100%|██████████████████████████████████████████████████████████████████████████████████████████████████████| 460243/460243 [01:50<00:00, 4156.40it/s]\n"
     ]
    },
    {
     "name": "stdout",
     "output_type": "stream",
     "text": [
      "resources/processed_dataset/patches/UC9_I cancer.h5 does not exist\n",
      "Loading imgs ...\n",
      "Patching: create image dataset (X) ...\n"
     ]
    },
    {
     "name": "stderr",
     "output_type": "stream",
     "text": [
      "100%|████████████████████████████████████████████████████████████████████████████████████████████████████████| 45712/45712 [00:43<00:00, 1042.45it/s]\n"
     ]
    },
    {
     "name": "stdout",
     "output_type": "stream",
     "text": [
      "Visualization\n",
      "\n",
      "Preprocess dataset DONE\n",
      "\n",
      "\n",
      "--UC9_I cancer EMBEDDING--\n",
      "\n",
      "Embedding images using resnet50 encoder\n",
      "Load pretrained Resnet50 offline from weights path: ./resources/pytorch_model.bin\n",
      "Generating embeddings for resources/processed_dataset/ST_data_emb/UC9_I cancer.h5 ...\n"
     ]
    },
    {
     "name": "stderr",
     "output_type": "stream",
     "text": [
      "100%|██████████████████████████████████████████████████████████████████████████████████████████████████████████████| 358/358 [00:08<00:00, 42.71it/s]\n"
     ]
    },
    {
     "name": "stdout",
     "output_type": "stream",
     "text": [
      "Embedding shape (X_test): (45712, 1024)\n",
      "\n",
      "--UC9_I cancer REGRESSION PREDICTIONS--\n",
      "\n",
      "Loaded model from ./resources/ST_pred_results/split1/model.pkl\n",
      "Loaded model from ./resources/ST_pred_results/split0/model.pkl\n",
      "\n",
      " Predictions shape: (45712, 460)\n",
      "(memory: Total=67.35 GB, Available=47.26 GB, Used=19.10 GB, Percent=29.8%)\n",
      "\n",
      "\n",
      "** UC9_I no cancer Predict the expression of 18157 unmeasured genes (Crunch 2) ****************************************************************\n",
      "\n",
      "--COSINE SIMILARITIES between UC9_I no cancer and single-cell RNA sequencing from shared genes--\n",
      "\n",
      "Number of shared genes between scRNA-seq and xenium data: 458\n",
      "Number of unmeasured genes in Xenium data: 18157 \n",
      "\n",
      "scRNA-Seq data shape (45482 samples x 18615 shared genes + unmeasured genes)\n",
      "Xenium data shape (5000 samples x 458 shared genes)\n",
      "\n",
      "Compute COSINE SIMILARITY: Find the top_k(=30) similar scRNA-Seq cells for each Xenium cell...\n",
      "\n",
      "Compute WEIGHTED AVERAGE of unmeasured genes from scRNA-Seq based on similarity scores...\n",
      "\n",
      "-- UC9_I no cancer PREDICTION DONE --\n",
      "\n",
      "(memory: Total=67.35 GB, Available=46.13 GB, Used=20.18 GB, Percent=31.5%)\n",
      "\n",
      "\n",
      "** UC9_I cancer Predict the expression of 18157 unmeasured genes (Crunch 2) ****************************************************************\n",
      "\n",
      "--COSINE SIMILARITIES between UC9_I cancer and single-cell RNA sequencing from shared genes--\n",
      "\n",
      "Number of shared genes between scRNA-seq and xenium data: 458\n",
      "Number of unmeasured genes in Xenium data: 18157 \n",
      "\n",
      "scRNA-Seq data shape (91811 samples x 18615 shared genes + unmeasured genes)\n",
      "Xenium data shape (5000 samples x 458 shared genes)\n",
      "\n",
      "Compute COSINE SIMILARITY: Find the top_k(=30) similar scRNA-Seq cells for each Xenium cell...\n",
      "\n",
      "Compute WEIGHTED AVERAGE of unmeasured genes from scRNA-Seq based on similarity scores...\n",
      "\n",
      "-- UC9_I cancer PREDICTION DONE --\n",
      "\n",
      "(memory: Total=67.35 GB, Available=45.59 GB, Used=20.71 GB, Percent=32.3%)\n",
      "\n",
      "Gene ranking by abs_logFC:\n"
     ]
    },
    {
     "data": {
      "text/html": [
       "<div>\n",
       "<style scoped>\n",
       "    .dataframe tbody tr th:only-of-type {\n",
       "        vertical-align: middle;\n",
       "    }\n",
       "\n",
       "    .dataframe tbody tr th {\n",
       "        vertical-align: top;\n",
       "    }\n",
       "\n",
       "    .dataframe thead th {\n",
       "        text-align: right;\n",
       "    }\n",
       "</style>\n",
       "<table border=\"1\" class=\"dataframe\">\n",
       "  <thead>\n",
       "    <tr style=\"text-align: right;\">\n",
       "      <th></th>\n",
       "      <th>mean_no_cancer</th>\n",
       "      <th>mean_cancer</th>\n",
       "      <th>variance_no_cancer</th>\n",
       "      <th>variance_cancer</th>\n",
       "      <th>dif_abs_mean</th>\n",
       "      <th>logFC</th>\n",
       "      <th>abs_logFC</th>\n",
       "    </tr>\n",
       "  </thead>\n",
       "  <tbody>\n",
       "    <tr>\n",
       "      <th>COMP</th>\n",
       "      <td>0.136322</td>\n",
       "      <td>0.000000</td>\n",
       "      <td>0.035171</td>\n",
       "      <td>0.000000</td>\n",
       "      <td>0.136322</td>\n",
       "      <td>-17.056669</td>\n",
       "      <td>17.056669</td>\n",
       "    </tr>\n",
       "    <tr>\n",
       "      <th>S100A2</th>\n",
       "      <td>0.000000</td>\n",
       "      <td>0.070722</td>\n",
       "      <td>0.000000</td>\n",
       "      <td>0.002785</td>\n",
       "      <td>0.070722</td>\n",
       "      <td>16.109892</td>\n",
       "      <td>16.109892</td>\n",
       "    </tr>\n",
       "    <tr>\n",
       "      <th>ISLR</th>\n",
       "      <td>0.066956</td>\n",
       "      <td>0.000000</td>\n",
       "      <td>0.006343</td>\n",
       "      <td>0.000000</td>\n",
       "      <td>0.066956</td>\n",
       "      <td>-16.030947</td>\n",
       "      <td>16.030947</td>\n",
       "    </tr>\n",
       "    <tr>\n",
       "      <th>BGN</th>\n",
       "      <td>0.062976</td>\n",
       "      <td>0.000000</td>\n",
       "      <td>0.008855</td>\n",
       "      <td>0.000000</td>\n",
       "      <td>0.062976</td>\n",
       "      <td>-15.942537</td>\n",
       "      <td>15.942537</td>\n",
       "    </tr>\n",
       "    <tr>\n",
       "      <th>REG3A</th>\n",
       "      <td>0.000000</td>\n",
       "      <td>0.060484</td>\n",
       "      <td>0.000000</td>\n",
       "      <td>0.002409</td>\n",
       "      <td>0.060484</td>\n",
       "      <td>15.884290</td>\n",
       "      <td>15.884290</td>\n",
       "    </tr>\n",
       "    <tr>\n",
       "      <th>...</th>\n",
       "      <td>...</td>\n",
       "      <td>...</td>\n",
       "      <td>...</td>\n",
       "      <td>...</td>\n",
       "      <td>...</td>\n",
       "      <td>...</td>\n",
       "      <td>...</td>\n",
       "    </tr>\n",
       "    <tr>\n",
       "      <th>SERPINB13</th>\n",
       "      <td>0.000000</td>\n",
       "      <td>0.000000</td>\n",
       "      <td>0.000000</td>\n",
       "      <td>0.000000</td>\n",
       "      <td>0.000000</td>\n",
       "      <td>0.000000</td>\n",
       "      <td>0.000000</td>\n",
       "    </tr>\n",
       "    <tr>\n",
       "      <th>SERPINB3</th>\n",
       "      <td>0.000000</td>\n",
       "      <td>0.000000</td>\n",
       "      <td>0.000000</td>\n",
       "      <td>0.000000</td>\n",
       "      <td>0.000000</td>\n",
       "      <td>0.000000</td>\n",
       "      <td>0.000000</td>\n",
       "    </tr>\n",
       "    <tr>\n",
       "      <th>SERPINB4</th>\n",
       "      <td>0.000000</td>\n",
       "      <td>0.000000</td>\n",
       "      <td>0.000000</td>\n",
       "      <td>0.000000</td>\n",
       "      <td>0.000000</td>\n",
       "      <td>0.000000</td>\n",
       "      <td>0.000000</td>\n",
       "    </tr>\n",
       "    <tr>\n",
       "      <th>SERTM1</th>\n",
       "      <td>0.000000</td>\n",
       "      <td>0.000000</td>\n",
       "      <td>0.000000</td>\n",
       "      <td>0.000000</td>\n",
       "      <td>0.000000</td>\n",
       "      <td>0.000000</td>\n",
       "      <td>0.000000</td>\n",
       "    </tr>\n",
       "    <tr>\n",
       "      <th>DNAJC25</th>\n",
       "      <td>0.000000</td>\n",
       "      <td>0.000000</td>\n",
       "      <td>0.000000</td>\n",
       "      <td>0.000000</td>\n",
       "      <td>0.000000</td>\n",
       "      <td>0.000000</td>\n",
       "      <td>0.000000</td>\n",
       "    </tr>\n",
       "  </tbody>\n",
       "</table>\n",
       "<p>18615 rows × 7 columns</p>\n",
       "</div>"
      ],
      "text/plain": [
       "           mean_no_cancer  mean_cancer  variance_no_cancer  variance_cancer  \\\n",
       "COMP             0.136322     0.000000            0.035171         0.000000   \n",
       "S100A2           0.000000     0.070722            0.000000         0.002785   \n",
       "ISLR             0.066956     0.000000            0.006343         0.000000   \n",
       "BGN              0.062976     0.000000            0.008855         0.000000   \n",
       "REG3A            0.000000     0.060484            0.000000         0.002409   \n",
       "...                   ...          ...                 ...              ...   \n",
       "SERPINB13        0.000000     0.000000            0.000000         0.000000   \n",
       "SERPINB3         0.000000     0.000000            0.000000         0.000000   \n",
       "SERPINB4         0.000000     0.000000            0.000000         0.000000   \n",
       "SERTM1           0.000000     0.000000            0.000000         0.000000   \n",
       "DNAJC25          0.000000     0.000000            0.000000         0.000000   \n",
       "\n",
       "           dif_abs_mean      logFC  abs_logFC  \n",
       "COMP           0.136322 -17.056669  17.056669  \n",
       "S100A2         0.070722  16.109892  16.109892  \n",
       "ISLR           0.066956 -16.030947  16.030947  \n",
       "BGN            0.062976 -15.942537  15.942537  \n",
       "REG3A          0.060484  15.884290  15.884290  \n",
       "...                 ...        ...        ...  \n",
       "SERPINB13      0.000000   0.000000   0.000000  \n",
       "SERPINB3       0.000000   0.000000   0.000000  \n",
       "SERPINB4       0.000000   0.000000   0.000000  \n",
       "SERTM1         0.000000   0.000000   0.000000  \n",
       "DNAJC25        0.000000   0.000000   0.000000  \n",
       "\n",
       "[18615 rows x 7 columns]"
      ]
     },
     "metadata": {},
     "output_type": "display_data"
    },
    {
     "data": {
      "image/png": "[encoded data removed]",
      "text/plain": [
       "<Figure size 1000x600 with 1 Axes>"
      ]
     },
     "metadata": {},
     "output_type": "display_data"
    }
   ],
   "source": [
    "from types import SimpleNamespace\n",
    "data_directory_path=\"./data\"\n",
    "model_directory_path=\"./resources\"\n",
    "args_dict = {\n",
    "    \"file_name_scRNAseq\": 'Crunch3_scRNAseq.h5ad',  # Filename for scRNAseq data\n",
    "    \"filter_column_scRNAseq\": \"dysplasia\",  # Column for filtering scRNAseq data\n",
    "    \"filter_value_no_cancer\": \"n\",  # Filtered column value indicating absence of cancer\n",
    "    \"filter_value_cancer\": \"y\",  # Filtered column value indicating the presence of cancer\n",
    "    \"column_for_ranking\": \"abs_logFC\",\n",
    "    \"ascending\": False\n",
    "}\n",
    "\n",
    "args = SimpleNamespace(**args_dict)\n",
    "\n",
    "import spatialdata as sd \n",
    "import os\n",
    "sdata = sd.read_zarr(os.path.join(data_directory_path, 'UC9_I.zarr'))\n",
    "gene_460_names = list(sdata[\"anucleus\"].var.index)\n",
    "\n",
    "dysplasia_file = {\n",
    "    # H&E image of tissue with dysplasia\n",
    "    'tif_HE': os.path.join(data_directory_path, 'UC9_I-crunch3-HE.tif'),\n",
    "\n",
    "    # Nucleus segmentation of H&E image\n",
    "    'tif_HE_nuc': os.path.join(data_directory_path, 'UC9_I-crunch3-HE-label-stardist.tif'),\n",
    "\n",
    "    # Regions in H&E image highlighting dysplasia and non-dysplasia\n",
    "    'tif_region': os.path.join(data_directory_path, 'UC9_I-crunch3-HE-dysplasia-ROI.tif')\n",
    "}\n",
    "\n",
    "import skimage.io\n",
    "# Read the dysplasia-related images and store them in a dictionary\n",
    "dysplasia_img_list = {}\n",
    "for key in dysplasia_file:\n",
    "    dysplasia_img_list[key] = skimage.io.imread(dysplasia_file[key])\n",
    "\n",
    "from skimage.measure import regionprops\n",
    "regions = regionprops(dysplasia_img_list['tif_HE_nuc'])\n",
    "\n",
    "from tqdm import tqdm\n",
    "# Divide cell IDs between dysplasia and non-dysplasia status\n",
    "cell_ids_no_cancer, cell_ids_cancer = [], []\n",
    "# Loop through each region and extract centroid if the cell ID matches\n",
    "for props in tqdm(regions):\n",
    "    cell_id = props.label\n",
    "    centroid = props.centroid\n",
    "    y_center, x_center = int(centroid[0]), int(centroid[1])\n",
    "    # Using UC9_I-crunch3-HE-dysplasia-ROI.tif, check if cell ID highlight dysplasia or non-dysplasia (or 0 indicating other tissue regions)\n",
    "    dysplasia = dysplasia_img_list['tif_region'][y_center, x_center]\n",
    "    if dysplasia == 1:\n",
    "        cell_ids_no_cancer.append(cell_id)\n",
    "    elif dysplasia == 2:\n",
    "        cell_ids_cancer.append(cell_id)\n",
    "\n",
    "prediction_cell_ids_no_cancer1 = infer_crunch_1(\n",
    "    name_data=\"UC9_I no cancer\",\n",
    "    data_file_path=data_directory_path,\n",
    "    model_directory_path=model_directory_path,\n",
    "    sdata=dysplasia_img_list,\n",
    "    cell_ids=cell_ids_no_cancer,\n",
    "    gene_460_names=gene_460_names\n",
    ")\n",
    "\n",
    "prediction_cell_ids_cancer1 = infer_crunch_1(\n",
    "    name_data=\"UC9_I cancer\",\n",
    "    data_file_path=data_directory_path,\n",
    "    model_directory_path=model_directory_path,\n",
    "    sdata=dysplasia_img_list,\n",
    "    cell_ids=cell_ids_cancer,\n",
    "    gene_460_names=gene_460_names\n",
    ")\n",
    "\n",
    "del regions\n",
    "del dysplasia_img_list\n",
    "\n",
    "import scanpy as sc \n",
    "scRNAseq = sc.read_h5ad(os.path.join(data_directory_path, args.file_name_scRNAseq))\n",
    "\n",
    "# Filter scRNAseq data by dysplasia status\n",
    "scRNAseq_no_cancer = scRNAseq[scRNAseq.obs[args.filter_column_scRNAseq] == args.filter_value_no_cancer].copy()\n",
    "scRNAseq_cancer = scRNAseq[scRNAseq.obs[args.filter_column_scRNAseq] == args.filter_value_cancer].copy()\n",
    "del scRNAseq\n",
    "\n",
    "from print_memory_usage import print_memory_usage\n",
    "import gc\n",
    "gc.collect(); print_memory_usage(\"memory\")\n",
    "\n",
    "subsample = 5000\n",
    "\n",
    "# No cancer status: predict the expression of 18157 genes using the expression of the 460 inferred genes and scRNAseq data (Crunch 2)\n",
    "prediction_cell_ids_no_cancer2 = infer_crunch_2(\n",
    "    prediction_460_genes=prediction_cell_ids_no_cancer1[0:subsample],\n",
    "    name_data=\"UC9_I no cancer\",\n",
    "    data_file_path=data_directory_path,\n",
    "    model_directory_path=model_directory_path,\n",
    "    scRNAseq=scRNAseq_no_cancer,\n",
    "    filter_column=args.filter_column_scRNAseq,\n",
    "    filter_value=args.filter_value_no_cancer\n",
    ")\n",
    "\n",
    "gc.collect(); print_memory_usage(\"memory\")\n",
    "\n",
    "# Cancer status: predict the expression of 18157 genes using the expression of the 460 inferred genes and scRNAseq data (Crunch 2)\n",
    "prediction_cell_ids_cancer2 = infer_crunch_2(\n",
    "    prediction_460_genes=prediction_cell_ids_cancer1[0:subsample],\n",
    "    name_data=\"UC9_I cancer\",\n",
    "    data_file_path=data_directory_path,\n",
    "    model_directory_path=model_directory_path,\n",
    "    scRNAseq=scRNAseq_cancer,\n",
    "    filter_column=args.filter_column_scRNAseq,\n",
    "    filter_value=args.filter_value_cancer\n",
    ")\n",
    "\n",
    "gc.collect(); print_memory_usage(\"memory\")\n",
    "\n",
    "from gene_ranking import gene_ranking\n",
    "\n",
    "prediction, df_gene_ranking = gene_ranking(prediction_cell_ids_no_cancer2, prediction_cell_ids_cancer2,\n",
    "                               column_for_ranking=args.column_for_ranking, ascending=args.ascending)\n",
    "\n",
    "# Save the ranked genes to a CSV file -> to use for the inder function and crunchDAO crunch 3 submission\n",
    "prediction.to_csv(os.path.join(model_directory_path, \"gene_ranking.csv\"))\n",
    "\n",
    "import pandas as pd\n",
    "import matplotlib.pyplot as plt\n",
    "prediction['is460'] = prediction['Gene Name'].apply(lambda x: x in gene_460_names)\n",
    "df = df_gene_ranking[['logFC']].copy()\n",
    "df['is460'] = ['green' if gene in gene_460_names else 'red' for gene in df.index]\n",
    "df['rank'] = [i+1 for i in range(len(df))]\n",
    "\n",
    "# Create the scatterplot\n",
    "plt.figure(figsize=(10, 6))\n",
    "df_460 = df[df.is460 == 'green']\n",
    "df_imputed = df[df.is460 != 'green']\n",
    "plt.scatter(df_imputed['rank'].values, df_imputed['logFC'].values, c=df_imputed['is460'].values, s=0.1);\n",
    "plt.scatter(df_460['rank'].values, df_460['logFC'].values, c=df_460['is460'].values, s=5);\n",
    "\n",
    "# Add labels and title\n",
    "plt.xlabel('Row Number')\n",
    "plt.ylabel('logFC')\n",
    "plt.title('Scatterplot of logFC vs Row Number')\n",
    "\n",
    "# Create custom legend\n",
    "import matplotlib.patches as mpatches\n",
    "red_patch = mpatches.Patch(color='red', label='Imputed')\n",
    "green_patch = mpatches.Patch(color='green', label='Assayed')\n",
    "plt.legend(handles=[red_patch, green_patch]);\n",
    "\n",
    "plt.savefig('resources/logFC_plot.png', dpi=300, bbox_inches='tight')"
   ]
  },
  {
   "cell_type": "code",
   "execution_count": null,
   "id": "448a5e54-d747-4dcf-99e5-a418f4fdfe5b",
   "metadata": {},
   "outputs": [],
   "source": []
  }
 ],
 "metadata": {
  "kernelspec": {
   "display_name": "broad",
   "language": "python",
   "name": "broad"
  },
  "language_info": {
   "codemirror_mode": {
    "name": "ipython",
    "version": 3
   },
   "file_extension": ".py",
   "mimetype": "text/x-python",
   "name": "python",
   "nbconvert_exporter": "python",
   "pygments_lexer": "ipython3",
   "version": "3.10.16"
  }
 },
 "nbformat": 4,
 "nbformat_minor": 5
}
