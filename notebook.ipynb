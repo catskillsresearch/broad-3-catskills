{
 "cells": [
  {
   "cell_type": "markdown",
   "metadata": {},
   "source": [
    "# infer function"
   ]
  },
  {
   "cell_type": "code",
   "execution_count": null,
   "metadata": {
    "id": "WjyE1S3epuim"
   },
   "outputs": [],
   "source": [
    "import os\n",
    "import pandas as pd\n",
    "\n",
    "def infer(\n",
    "    data_file_path: str,\n",
    "    data_directory_path: str,\n",
    "    model_directory_path: str\n",
    "):\n",
    "    return pd.read_csv(os.path.join(model_directory_path, \"gene_ranking.csv\"), index_col=0)\n",
    "\n",
    "prediction = infer(\n",
    "    data_file_path=\"./data\",\n",
    "    data_directory_path=\"./data\",\n",
    "    model_directory_path=\"./resources\"\n",
    ")\n",
    "\n",
    "prediction"
   ]
  },
  {
   "cell_type": "code",
   "execution_count": null,
   "metadata": {},
   "outputs": [],
   "source": [
    "def train(\n",
    "    data_directory_path: str,  # Path to the input data directory\n",
    "    model_directory_path: str  # Path to save the trained model and results\n",
    "):\n",
    "    return 'Hello, world'"
   ]
  },
  {
   "cell_type": "markdown",
   "metadata": {},
   "source": [
    "---\n",
    "file: REPORT.md\n",
    "---\n",
    "\n",
    "# Method Description\n",
    "\n",
    "This method uses the baseline quickstart code as follows:\n",
    "\n",
    "* Predict the Expression of 460 Measured Genes: This step uses a ResNet50 embedding model and regression models, trained on H&E pathology images, to predict the expression of 460 genes for each cell in the dataset.  Call these the *assayed* genes.\n",
    "\n",
    "* Predict the Expression of 18157 Unmeasured Genes: Leveraging the gene expressions for the assayed genes and a single-cell RNA sequencing (scRNA-Seq) reference dataset, a similarity-based method is applied to infer the expression of 18157 unmeasured genes for each cell in the dataset.  Call this the *imputed* set.\n",
    "\n",
    "* Gene Ranking Using logFC Method: Apply the log fold change (logFC) method to rank genes based on their ability to differentiate between dysplastic and non-dysplastic tissue regions. \n",
    "\n",
    "# Rationale\n",
    "\n",
    "Our suggested gene panel is to take the top 500 genes in our list which is ranked by absolute value of log fold change. The logFC method computes the logarithmic fold change between the predicted expression values for the two regions (dysplastic and non-dysplastic). Genes are ranked based on the magnitude of their logFC values, with higher values indicating greater differentiation potential between the regions.\n",
    "\n",
    "\n",
    "# Data and Resources Used\n",
    "\n",
    "We use only the data provided by Broad Institute.  We do not use external data.  We use the registered images.  We don't do anything with the unregistered images.  We use the provided Crunch 3 dataset to select dysplasia and non-dysplasia cells for analysis.\n",
    "\n",
    "We use the large dataset for UC9_I and we use as many samples from UC9_I for training as will fit in memory for our system.  \n",
    "\n",
    "We train our regression model to predict 460 genes from cells in UC1_I and UC9_I large datasets.\n",
    "\n",
    "From the UC9_I dataset we use the model to infer 460 gene expressions for 45712 cells for the dysplasia subset and\n",
    "90491 from the non-dysplasia subset\n",
    "\n",
    "Due to memory limitations we then randomly select 5000 cells from each of the dysplasia and non-dysplasia gene expression sets.\n",
    "\n",
    "For these 5000 we then impute the 18157 unmeasured genes using the cosine similarity method.\n",
    "\n",
    "We calculate mean, variance and absolute log fold change (logFC) for all 18615 protein-coding genes for each of the cancerous and non-cancerous samples.\n"
   ]
  },
  {
   "cell_type": "code",
   "execution_count": null,
   "metadata": {},
   "outputs": [],
   "source": []
  }
 ],
 "metadata": {
  "colab": {
   "provenance": [
    {
     "file_id": "1mrCYp0MSIolnJBcTFuZoPBU39xNyiMBY",
     "timestamp": 1734438290923
    },
    {
     "file_id": "15O0Uur2rCLQjgNSXPce7TytD3Ci07nm0",
     "timestamp": 1732783611507
    }
   ]
  },
  "kernelspec": {
   "display_name": "Python 3 (ipykernel)",
   "language": "python",
   "name": "python3"
  },
  "language_info": {
   "codemirror_mode": {
    "name": "ipython",
    "version": 3
   },
   "file_extension": ".py",
   "mimetype": "text/x-python",
   "name": "python",
   "nbconvert_exporter": "python",
   "pygments_lexer": "ipython3",
   "version": "3.10.16"
  }
 },
 "nbformat": 4,
 "nbformat_minor": 4
}
