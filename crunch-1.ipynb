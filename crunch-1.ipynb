{
 "cells": [
  {
   "cell_type": "code",
   "execution_count": null,
   "metadata": {
    "id": "tAzquCA99X33"
   },
   "outputs": [],
   "source": [
    "import crunch\n",
    "from train1 import *\n",
    "from infer1 import *\n",
    "crunch = crunch.load_notebook()\n",
    "# /!\\ Don't forget to import pre-trained Resnet50 \"pytorch_model.bin\" in model_directory_path=\"./resources\" from https://huggingface.co/timm/resnet50.tv_in1k/tree/main\n",
    "train1(data_directory_path='./data.2.large', model_directory_path=\"./resources\")\n",
    "prediction = infer1(\n",
    "    data_file_path=\"./data/UC1_NI.zarr\",\n",
    "    model_directory_path=\"./resources\"\n",
    ")\n",
    "print(prediction.head())\n",
    "if 0:\n",
    "    crunch.test(no_determinism_check=True)"
   ]
  },
  {
   "cell_type": "code",
   "execution_count": null,
   "metadata": {},
   "outputs": [],
   "source": []
  }
 ],
 "metadata": {
  "colab": {
   "machine_shape": "hm",
   "provenance": []
  },
  "kernelspec": {
   "display_name": "Python 3 (ipykernel)",
   "language": "python",
   "name": "python3"
  },
  "language_info": {
   "codemirror_mode": {
    "name": "ipython",
    "version": 3
   },
   "file_extension": ".py",
   "mimetype": "text/x-python",
   "name": "python",
   "nbconvert_exporter": "python",
   "pygments_lexer": "ipython3",
   "version": "3.10.16"
  }
 },
 "nbformat": 4,
 "nbformat_minor": 4
}
