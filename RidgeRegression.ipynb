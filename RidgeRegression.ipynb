{
 "cells": [
  {
   "cell_type": "code",
   "execution_count": 5,
   "id": "f26c3047-6548-4a5a-9a66-4ca5c78093cb",
   "metadata": {},
   "outputs": [
    {
     "name": "stdout",
     "output_type": "stream",
     "text": [
      "Using device: cuda\n",
      "Test MSE: 0.0108\n",
      "Weight matrix shape: torch.Size([100, 5]) (features × targets)\n"
     ]
    }
   ],
   "source": [
    "import torch\n",
    "import numpy as np\n",
    "from sklearn.datasets import make_regression\n",
    "from sklearn.model_selection import train_test_split\n",
    "from sklearn.metrics import mean_squared_error\n",
    "\n",
    "# Set random seeds for reproducibility\n",
    "torch.manual_seed(42)\n",
    "np.random.seed(42)\n",
    "\n",
    "# Check for GPU availability\n",
    "device = torch.device(\"cuda\" if torch.cuda.is_available() else \"cpu\")\n",
    "print(f\"Using device: {device}\")\n",
    "\n",
    "# Generate synthetic multi-output regression data\n",
    "n_samples = 10000\n",
    "n_features = 100\n",
    "n_targets = 5  # Number of output dimensions\n",
    "\n",
    "X, Y = make_regression(n_samples=n_samples,\n",
    "                       n_features=n_features,\n",
    "                       n_targets=n_targets,\n",
    "                       noise=0.1,\n",
    "                       random_state=42)\n",
    "\n",
    "# Split into train/test sets\n",
    "X_train, X_test, Y_train, Y_test = train_test_split(X, Y, test_size=0.2, random_state=42)\n",
    "\n",
    "# Convert to PyTorch tensors and move to GPU\n",
    "X_train_t = torch.tensor(X_train, dtype=torch.float32, device=device)\n",
    "Y_train_t = torch.tensor(Y_train, dtype=torch.float32, device=device)\n",
    "X_test_t = torch.tensor(X_test, dtype=torch.float32, device=device)\n",
    "\n",
    "def ridge_regression(X, Y, alpha=1.0):\n",
    "    \"\"\"\n",
    "    Closed-form solution for multi-output Ridge regression\n",
    "    X: (n_samples, n_features) tensor\n",
    "    Y: (n_samples, n_targets) tensor\n",
    "    Returns: (n_features, n_targets) weight matrix\n",
    "    \"\"\"\n",
    "    # Add bias term (optional, remove if not needed)\n",
    "    # X = torch.cat([X, torch.ones(X.shape[0], 1, device=device)], dim=1)\n",
    "    \n",
    "    # Compute closed-form solution\n",
    "    XtX = X.T @ X\n",
    "    regularization = alpha * torch.eye(XtX.shape[0], device=device)\n",
    "    weights = torch.linalg.solve(XtX + regularization, X.T @ Y)\n",
    "    return weights\n",
    "\n",
    "# Train the model\n",
    "alpha = 1.0\n",
    "W = ridge_regression(X_train_t, Y_train_t, alpha=alpha)\n",
    "\n",
    "# Make predictions on test set\n",
    "with torch.no_grad():\n",
    "    Y_pred_t = X_test_t @ W\n",
    "\n",
    "# Move predictions back to CPU for evaluation with sklearn\n",
    "Y_pred = Y_pred_t.cpu().numpy()\n",
    "\n",
    "# Evaluate\n",
    "mse = mean_squared_error(Y_test, Y_pred)\n",
    "print(f\"Test MSE: {mse:.4f}\")\n",
    "print(f\"Weight matrix shape: {W.shape} (features × targets)\")"
   ]
  },
  {
   "cell_type": "code",
   "execution_count": null,
   "id": "e1ffd2b5-bf21-471a-b751-ba3827bf1fd9",
   "metadata": {},
   "outputs": [],
   "source": []
  }
 ],
 "metadata": {
  "kernelspec": {
   "display_name": "broad",
   "language": "python",
   "name": "broad"
  },
  "language_info": {
   "codemirror_mode": {
    "name": "ipython",
    "version": 3
   },
   "file_extension": ".py",
   "mimetype": "text/x-python",
   "name": "python",
   "nbconvert_exporter": "python",
   "pygments_lexer": "ipython3",
   "version": "3.10.16"
  }
 },
 "nbformat": 4,
 "nbformat_minor": 5
}
