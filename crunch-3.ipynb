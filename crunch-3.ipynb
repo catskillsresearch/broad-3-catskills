{
 "cells": [
  {
   "cell_type": "markdown",
   "metadata": {
    "id": "66qZutltt1Av"
   },
   "source": [
    "# Rank all 18 615 protein-coding genes based on ability to distinguish dysplastic from non-cancerous tissue"
   ]
  },
  {
   "cell_type": "code",
   "execution_count": 1,
   "metadata": {
    "id": "uTKRN30cK5C3"
   },
   "outputs": [],
   "source": [
    "data_directory_path=\"./data\"\n",
    "model_directory_path=\"./resources\"\n",
    "args_dict = {\n",
    "    \"file_name_scRNAseq\": 'Crunch3_scRNAseq.h5ad',  # Filename for scRNAseq data\n",
    "    \"filter_column_scRNAseq\": \"dysplasia\",  # Column for filtering scRNAseq data\n",
    "    \"filter_value_no_cancer\": \"n\",  # Filtered column value indicating absence of cancer\n",
    "    \"filter_value_cancer\": \"y\",  # Filtered column value indicating the presence of cancer\n",
    "    \"column_for_ranking\": \"abs_logFC\",\n",
    "    \"ascending\": False\n",
    "}"
   ]
  },
  {
   "cell_type": "code",
   "execution_count": 2,
   "metadata": {
    "id": "uTKRN30cK5C3"
   },
   "outputs": [],
   "source": [
    "from types import SimpleNamespace\n",
    "args = SimpleNamespace(**args_dict)"
   ]
  },
  {
   "cell_type": "code",
   "execution_count": 3,
   "metadata": {
    "id": "uTKRN30cK5C3"
   },
   "outputs": [
    {
     "name": "stderr",
     "output_type": "stream",
     "text": [
      "/usr/lib/python3.10/importlib/__init__.py:126: FutureWarning: The legacy Dask DataFrame implementation is deprecated and will be removed in a future version. Set the configuration option `dataframe.query-planning` to `True` or None to enable the new Dask Dataframe implementation and silence this warning.\n",
      "  return _bootstrap._gcd_import(name[level:], package, level)\n"
     ]
    }
   ],
   "source": [
    "import spatialdata as sd \n",
    "import os\n",
    "sdata = sd.read_zarr(os.path.join(data_directory_path, 'UC9_I.zarr'))\n",
    "gene_460_names = list(sdata[\"anucleus\"].var.index)\n",
    "\n",
    "dysplasia_file = {\n",
    "    # H&E image of tissue with dysplasia\n",
    "    'tif_HE': os.path.join(data_directory_path, 'UC9_I-crunch3-HE.tif'),\n",
    "\n",
    "    # Nucleus segmentation of H&E image\n",
    "    'tif_HE_nuc': os.path.join(data_directory_path, 'UC9_I-crunch3-HE-label-stardist.tif'),\n",
    "\n",
    "    # Regions in H&E image highlighting dysplasia and non-dysplasia\n",
    "    'tif_region': os.path.join(data_directory_path, 'UC9_I-crunch3-HE-dysplasia-ROI.tif')\n",
    "}"
   ]
  },
  {
   "cell_type": "code",
   "execution_count": 4,
   "metadata": {
    "id": "uTKRN30cK5C3"
   },
   "outputs": [],
   "source": [
    "import skimage.io\n",
    "# Read the dysplasia-related images and store them in a dictionary\n",
    "dysplasia_img_list = {}\n",
    "for key in dysplasia_file:\n",
    "    dysplasia_img_list[key] = skimage.io.imread(dysplasia_file[key])"
   ]
  },
  {
   "cell_type": "code",
   "execution_count": 5,
   "metadata": {
    "id": "uTKRN30cK5C3"
   },
   "outputs": [],
   "source": [
    "from skimage.measure import regionprops\n",
    "regions = regionprops(dysplasia_img_list['tif_HE_nuc'])"
   ]
  },
  {
   "cell_type": "code",
   "execution_count": 6,
   "metadata": {
    "id": "uTKRN30cK5C3"
   },
   "outputs": [
    {
     "name": "stderr",
     "output_type": "stream",
     "text": [
      "100%|████████████████████████████████| 460243/460243 [00:16<00:00, 27426.76it/s]\n"
     ]
    }
   ],
   "source": [
    "from tqdm import tqdm\n",
    "# Divide cell IDs between dysplasia and non-dysplasia status\n",
    "cell_ids_no_cancer, cell_ids_cancer = [], []\n",
    "# Loop through each region and extract centroid if the cell ID matches\n",
    "for props in tqdm(regions):\n",
    "    cell_id = props.label\n",
    "    centroid = props.centroid\n",
    "    y_center, x_center = int(centroid[0]), int(centroid[1])\n",
    "    # Using UC9_I-crunch3-HE-dysplasia-ROI.tif, check if cell ID highlight dysplasia or non-dysplasia (or 0 indicating other tissue regions)\n",
    "    dysplasia = dysplasia_img_list['tif_region'][y_center, x_center]\n",
    "    if dysplasia == 1:\n",
    "        cell_ids_no_cancer.append(cell_id)\n",
    "    elif dysplasia == 2:\n",
    "        cell_ids_cancer.append(cell_id)"
   ]
  },
  {
   "cell_type": "code",
   "execution_count": 65,
   "metadata": {},
   "outputs": [
    {
     "data": {
      "text/plain": [
       "(45712, 90491)"
      ]
     },
     "execution_count": 65,
     "metadata": {},
     "output_type": "execute_result"
    }
   ],
   "source": [
    "len(cell_ids_cancer), len(cell_ids_no_cancer)"
   ]
  },
  {
   "cell_type": "code",
   "execution_count": 7,
   "metadata": {
    "id": "uTKRN30cK5C3"
   },
   "outputs": [
    {
     "name": "stdout",
     "output_type": "stream",
     "text": [
      "\n",
      "-- UC9_I no cancer INFERENCE ---------------------------------------------------------------\n",
      "\n",
      "\n",
      "** UC9_I no cancer Predict the expression of 460 genes (Crunch 1) ****************************************************************\n",
      "\n",
      "\n",
      "--UC9_I no cancer EMBEDDING--\n",
      "\n",
      "Embedding images using resnet50 encoder\n",
      "Load pretrained Resnet50 offline from weights path: ./resources/pytorch_model.bin\n",
      "Skipping embedding UC9_I no cancer.h5 as it already exists\n",
      "Embedding shape (X_test): (90491, 1024)\n",
      "\n",
      "--UC9_I no cancer REGRESSION PREDICTIONS--\n",
      "\n",
      "Loaded model from ./resources/ST_pred_results/split1/model.pkl\n",
      "Loaded model from ./resources/ST_pred_results/split0/model.pkl\n",
      "\n",
      " Predictions shape: (90491, 460)\n",
      "\n",
      "-- UC9_I cancer INFERENCE ---------------------------------------------------------------\n",
      "\n",
      "\n",
      "** UC9_I cancer Predict the expression of 460 genes (Crunch 1) ****************************************************************\n",
      "\n",
      "\n",
      "--UC9_I cancer EMBEDDING--\n",
      "\n",
      "Embedding images using resnet50 encoder\n",
      "Load pretrained Resnet50 offline from weights path: ./resources/pytorch_model.bin\n",
      "Skipping embedding UC9_I cancer.h5 as it already exists\n",
      "Embedding shape (X_test): (45712, 1024)\n",
      "\n",
      "--UC9_I cancer REGRESSION PREDICTIONS--\n",
      "\n",
      "Loaded model from ./resources/ST_pred_results/split1/model.pkl\n",
      "Loaded model from ./resources/ST_pred_results/split0/model.pkl\n",
      "\n",
      " Predictions shape: (45712, 460)\n"
     ]
    }
   ],
   "source": [
    "from infer_crunch_1 import infer_crunch_1\n",
    "\n",
    "prediction_cell_ids_no_cancer1 = infer_crunch_1(\n",
    "    name_data=\"UC9_I no cancer\",\n",
    "    data_file_path=data_directory_path,\n",
    "    model_directory_path=model_directory_path,\n",
    "    sdata=dysplasia_img_list,\n",
    "    cell_ids=cell_ids_no_cancer,\n",
    "    gene_460_names=gene_460_names\n",
    ")\n",
    "\n",
    "prediction_cell_ids_cancer1 = infer_crunch_1(\n",
    "    name_data=\"UC9_I cancer\",\n",
    "    data_file_path=data_directory_path,\n",
    "    model_directory_path=model_directory_path,\n",
    "    sdata=dysplasia_img_list,\n",
    "    cell_ids=cell_ids_cancer,\n",
    "    gene_460_names=gene_460_names\n",
    ")"
   ]
  },
  {
   "cell_type": "raw",
   "metadata": {},
   "source": [
    "del regions"
   ]
  },
  {
   "cell_type": "raw",
   "metadata": {
    "id": "66qZutltt1Av"
   },
   "source": [
    "del dysplasia_img_list"
   ]
  },
  {
   "cell_type": "code",
   "execution_count": 8,
   "metadata": {
    "id": "66qZutltt1Av"
   },
   "outputs": [],
   "source": [
    "import scanpy as sc \n",
    "scRNAseq = sc.read_h5ad(os.path.join(data_directory_path, args.file_name_scRNAseq))"
   ]
  },
  {
   "cell_type": "code",
   "execution_count": 9,
   "metadata": {
    "id": "66qZutltt1Av"
   },
   "outputs": [],
   "source": [
    "# Filter scRNAseq data by dysplasia status\n",
    "scRNAseq_no_cancer = scRNAseq[scRNAseq.obs[args.filter_column_scRNAseq] == args.filter_value_no_cancer].copy()\n",
    "scRNAseq_cancer = scRNAseq[scRNAseq.obs[args.filter_column_scRNAseq] == args.filter_value_cancer].copy()\n",
    "del scRNAseq"
   ]
  },
  {
   "cell_type": "raw",
   "metadata": {},
   "source": [
    "from print_memory_usage import print_memory_usage\n",
    "import gc\n",
    "gc.collect(); print_memory_usage(\"memory\")"
   ]
  },
  {
   "cell_type": "code",
   "execution_count": 10,
   "metadata": {},
   "outputs": [],
   "source": [
    "from infer_crunch_2 import infer_crunch_2"
   ]
  },
  {
   "cell_type": "code",
   "execution_count": 12,
   "metadata": {},
   "outputs": [
    {
     "data": {
      "text/plain": [
       "(90491, 45712)"
      ]
     },
     "execution_count": 12,
     "metadata": {},
     "output_type": "execute_result"
    }
   ],
   "source": [
    "subsample = 5000\n",
    "len(prediction_cell_ids_no_cancer1), len(prediction_cell_ids_cancer1)"
   ]
  },
  {
   "cell_type": "code",
   "execution_count": 13,
   "metadata": {
    "id": "66qZutltt1Av"
   },
   "outputs": [
    {
     "name": "stdout",
     "output_type": "stream",
     "text": [
      "\n",
      "** UC9_I no cancer Predict the expression of 18157 unmeasured genes (Crunch 2) ****************************************************************\n",
      "\n",
      "--COSINE SIMILARITIES between UC9_I no cancer and single-cell RNA sequencing from shared genes--\n",
      "\n",
      "Number of shared genes between scRNA-seq and xenium data: 458\n",
      "Number of unmeasured genes in Xenium data: 18157 \n",
      "\n",
      "scRNA-Seq data shape (45482 samples x 18615 shared genes + unmeasured genes)\n",
      "Xenium data shape (5000 samples x 458 shared genes)\n",
      "\n",
      "Compute COSINE SIMILARITY: Find the top_k(=30) similar scRNA-Seq cells for each Xenium cell...\n",
      "\n",
      "Compute WEIGHTED AVERAGE of unmeasured genes from scRNA-Seq based on similarity scores...\n",
      "\n",
      "-- UC9_I no cancer PREDICTION DONE --\n",
      "\n"
     ]
    }
   ],
   "source": [
    "# No cancer status: predict the expression of 18157 genes using the expression of the 460 inferred genes and scRNAseq data (Crunch 2)\n",
    "prediction_cell_ids_no_cancer2 = infer_crunch_2(\n",
    "    prediction_460_genes=prediction_cell_ids_no_cancer1[0:subsample],\n",
    "    name_data=\"UC9_I no cancer\",\n",
    "    data_file_path=data_directory_path,\n",
    "    model_directory_path=model_directory_path,\n",
    "    scRNAseq=scRNAseq_no_cancer,\n",
    "    filter_column=args.filter_column_scRNAseq,\n",
    "    filter_value=args.filter_value_no_cancer\n",
    ")"
   ]
  },
  {
   "cell_type": "raw",
   "metadata": {},
   "source": [
    "gc.collect(); print_memory_usage(\"memory\")"
   ]
  },
  {
   "cell_type": "code",
   "execution_count": 14,
   "metadata": {
    "id": "66qZutltt1Av"
   },
   "outputs": [
    {
     "name": "stdout",
     "output_type": "stream",
     "text": [
      "\n",
      "** UC9_I cancer Predict the expression of 18157 unmeasured genes (Crunch 2) ****************************************************************\n",
      "\n",
      "--COSINE SIMILARITIES between UC9_I cancer and single-cell RNA sequencing from shared genes--\n",
      "\n",
      "Number of shared genes between scRNA-seq and xenium data: 458\n",
      "Number of unmeasured genes in Xenium data: 18157 \n",
      "\n",
      "scRNA-Seq data shape (91811 samples x 18615 shared genes + unmeasured genes)\n",
      "Xenium data shape (5000 samples x 458 shared genes)\n",
      "\n",
      "Compute COSINE SIMILARITY: Find the top_k(=30) similar scRNA-Seq cells for each Xenium cell...\n",
      "\n",
      "Compute WEIGHTED AVERAGE of unmeasured genes from scRNA-Seq based on similarity scores...\n",
      "\n",
      "-- UC9_I cancer PREDICTION DONE --\n",
      "\n"
     ]
    }
   ],
   "source": [
    "# Cancer status: predict the expression of 18157 genes using the expression of the 460 inferred genes and scRNAseq data (Crunch 2)\n",
    "prediction_cell_ids_cancer2 = infer_crunch_2(\n",
    "    prediction_460_genes=prediction_cell_ids_cancer1[0:subsample],\n",
    "    name_data=\"UC9_I cancer\",\n",
    "    data_file_path=data_directory_path,\n",
    "    model_directory_path=model_directory_path,\n",
    "    scRNAseq=scRNAseq_cancer,\n",
    "    filter_column=args.filter_column_scRNAseq,\n",
    "    filter_value=args.filter_value_cancer\n",
    ")"
   ]
  },
  {
   "cell_type": "raw",
   "metadata": {},
   "source": [
    "gc.collect(); print_memory_usage(\"memory\")"
   ]
  },
  {
   "cell_type": "code",
   "execution_count": 15,
   "metadata": {},
   "outputs": [],
   "source": [
    "from gene_ranking import gene_ranking"
   ]
  },
  {
   "cell_type": "code",
   "execution_count": 24,
   "metadata": {
    "id": "66qZutltt1Av"
   },
   "outputs": [
    {
     "name": "stdout",
     "output_type": "stream",
     "text": [
      "Gene ranking by abs_logFC:\n"
     ]
    },
    {
     "data": {
      "text/html": [
       "<div>\n",
       "<style scoped>\n",
       "    .dataframe tbody tr th:only-of-type {\n",
       "        vertical-align: middle;\n",
       "    }\n",
       "\n",
       "    .dataframe tbody tr th {\n",
       "        vertical-align: top;\n",
       "    }\n",
       "\n",
       "    .dataframe thead th {\n",
       "        text-align: right;\n",
       "    }\n",
       "</style>\n",
       "<table border=\"1\" class=\"dataframe\">\n",
       "  <thead>\n",
       "    <tr style=\"text-align: right;\">\n",
       "      <th></th>\n",
       "      <th>mean_no_cancer</th>\n",
       "      <th>mean_cancer</th>\n",
       "      <th>variance_no_cancer</th>\n",
       "      <th>variance_cancer</th>\n",
       "      <th>dif_abs_mean</th>\n",
       "      <th>logFC</th>\n",
       "      <th>abs_logFC</th>\n",
       "    </tr>\n",
       "  </thead>\n",
       "  <tbody>\n",
       "    <tr>\n",
       "      <th>COMP</th>\n",
       "      <td>0.137522</td>\n",
       "      <td>0.000000</td>\n",
       "      <td>0.035501</td>\n",
       "      <td>0.000000</td>\n",
       "      <td>0.137522</td>\n",
       "      <td>-17.069313</td>\n",
       "      <td>17.069313</td>\n",
       "    </tr>\n",
       "    <tr>\n",
       "      <th>EBF2</th>\n",
       "      <td>0.109462</td>\n",
       "      <td>0.000000</td>\n",
       "      <td>0.031758</td>\n",
       "      <td>0.000000</td>\n",
       "      <td>0.109462</td>\n",
       "      <td>-16.740084</td>\n",
       "      <td>16.740084</td>\n",
       "    </tr>\n",
       "    <tr>\n",
       "      <th>F12</th>\n",
       "      <td>0.000000</td>\n",
       "      <td>0.074202</td>\n",
       "      <td>0.000000</td>\n",
       "      <td>0.002904</td>\n",
       "      <td>0.074202</td>\n",
       "      <td>16.179190</td>\n",
       "      <td>16.179190</td>\n",
       "    </tr>\n",
       "    <tr>\n",
       "      <th>S100A2</th>\n",
       "      <td>0.000000</td>\n",
       "      <td>0.070616</td>\n",
       "      <td>0.000000</td>\n",
       "      <td>0.002792</td>\n",
       "      <td>0.070616</td>\n",
       "      <td>16.107728</td>\n",
       "      <td>16.107728</td>\n",
       "    </tr>\n",
       "    <tr>\n",
       "      <th>ISLR</th>\n",
       "      <td>0.067188</td>\n",
       "      <td>0.000000</td>\n",
       "      <td>0.006408</td>\n",
       "      <td>0.000000</td>\n",
       "      <td>0.067188</td>\n",
       "      <td>-16.035937</td>\n",
       "      <td>16.035937</td>\n",
       "    </tr>\n",
       "    <tr>\n",
       "      <th>...</th>\n",
       "      <td>...</td>\n",
       "      <td>...</td>\n",
       "      <td>...</td>\n",
       "      <td>...</td>\n",
       "      <td>...</td>\n",
       "      <td>...</td>\n",
       "      <td>...</td>\n",
       "    </tr>\n",
       "    <tr>\n",
       "      <th>TREML2</th>\n",
       "      <td>0.000000</td>\n",
       "      <td>0.000000</td>\n",
       "      <td>0.000000</td>\n",
       "      <td>0.000000</td>\n",
       "      <td>0.000000</td>\n",
       "      <td>0.000000</td>\n",
       "      <td>0.000000</td>\n",
       "    </tr>\n",
       "    <tr>\n",
       "      <th>TREML4</th>\n",
       "      <td>0.000000</td>\n",
       "      <td>0.000000</td>\n",
       "      <td>0.000000</td>\n",
       "      <td>0.000000</td>\n",
       "      <td>0.000000</td>\n",
       "      <td>0.000000</td>\n",
       "      <td>0.000000</td>\n",
       "    </tr>\n",
       "    <tr>\n",
       "      <th>IGKV1-33</th>\n",
       "      <td>0.000000</td>\n",
       "      <td>0.000000</td>\n",
       "      <td>0.000000</td>\n",
       "      <td>0.000000</td>\n",
       "      <td>0.000000</td>\n",
       "      <td>0.000000</td>\n",
       "      <td>0.000000</td>\n",
       "    </tr>\n",
       "    <tr>\n",
       "      <th>TREX1</th>\n",
       "      <td>0.000000</td>\n",
       "      <td>0.000000</td>\n",
       "      <td>0.000000</td>\n",
       "      <td>0.000000</td>\n",
       "      <td>0.000000</td>\n",
       "      <td>0.000000</td>\n",
       "      <td>0.000000</td>\n",
       "    </tr>\n",
       "    <tr>\n",
       "      <th>POTEM</th>\n",
       "      <td>0.000000</td>\n",
       "      <td>0.000000</td>\n",
       "      <td>0.000000</td>\n",
       "      <td>0.000000</td>\n",
       "      <td>0.000000</td>\n",
       "      <td>0.000000</td>\n",
       "      <td>0.000000</td>\n",
       "    </tr>\n",
       "  </tbody>\n",
       "</table>\n",
       "<p>18615 rows × 7 columns</p>\n",
       "</div>"
      ],
      "text/plain": [
       "          mean_no_cancer  mean_cancer  variance_no_cancer  variance_cancer  \\\n",
       "COMP            0.137522     0.000000            0.035501         0.000000   \n",
       "EBF2            0.109462     0.000000            0.031758         0.000000   \n",
       "F12             0.000000     0.074202            0.000000         0.002904   \n",
       "S100A2          0.000000     0.070616            0.000000         0.002792   \n",
       "ISLR            0.067188     0.000000            0.006408         0.000000   \n",
       "...                  ...          ...                 ...              ...   \n",
       "TREML2          0.000000     0.000000            0.000000         0.000000   \n",
       "TREML4          0.000000     0.000000            0.000000         0.000000   \n",
       "IGKV1-33        0.000000     0.000000            0.000000         0.000000   \n",
       "TREX1           0.000000     0.000000            0.000000         0.000000   \n",
       "POTEM           0.000000     0.000000            0.000000         0.000000   \n",
       "\n",
       "          dif_abs_mean      logFC  abs_logFC  \n",
       "COMP          0.137522 -17.069313  17.069313  \n",
       "EBF2          0.109462 -16.740084  16.740084  \n",
       "F12           0.074202  16.179190  16.179190  \n",
       "S100A2        0.070616  16.107728  16.107728  \n",
       "ISLR          0.067188 -16.035937  16.035937  \n",
       "...                ...        ...        ...  \n",
       "TREML2        0.000000   0.000000   0.000000  \n",
       "TREML4        0.000000   0.000000   0.000000  \n",
       "IGKV1-33      0.000000   0.000000   0.000000  \n",
       "TREX1         0.000000   0.000000   0.000000  \n",
       "POTEM         0.000000   0.000000   0.000000  \n",
       "\n",
       "[18615 rows x 7 columns]"
      ]
     },
     "metadata": {},
     "output_type": "display_data"
    }
   ],
   "source": [
    "prediction, df_gene_ranking = gene_ranking(prediction_cell_ids_no_cancer2, prediction_cell_ids_cancer2,\n",
    "                               column_for_ranking=args.column_for_ranking, ascending=args.ascending)"
   ]
  },
  {
   "cell_type": "code",
   "execution_count": 25,
   "metadata": {
    "id": "66qZutltt1Av"
   },
   "outputs": [],
   "source": [
    "# Save the ranked genes to a CSV file -> to use for the inder function and crunchDAO crunch 3 submission\n",
    "prediction.to_csv(os.path.join(model_directory_path, \"gene_ranking.csv\"))"
   ]
  },
  {
   "cell_type": "code",
   "execution_count": 26,
   "metadata": {},
   "outputs": [
    {
     "data": {
      "text/html": [
       "<div>\n",
       "<style scoped>\n",
       "    .dataframe tbody tr th:only-of-type {\n",
       "        vertical-align: middle;\n",
       "    }\n",
       "\n",
       "    .dataframe tbody tr th {\n",
       "        vertical-align: top;\n",
       "    }\n",
       "\n",
       "    .dataframe thead th {\n",
       "        text-align: right;\n",
       "    }\n",
       "</style>\n",
       "<table border=\"1\" class=\"dataframe\">\n",
       "  <thead>\n",
       "    <tr style=\"text-align: right;\">\n",
       "      <th></th>\n",
       "      <th>Gene Name</th>\n",
       "    </tr>\n",
       "  </thead>\n",
       "  <tbody>\n",
       "    <tr>\n",
       "      <th>1</th>\n",
       "      <td>COMP</td>\n",
       "    </tr>\n",
       "    <tr>\n",
       "      <th>2</th>\n",
       "      <td>EBF2</td>\n",
       "    </tr>\n",
       "    <tr>\n",
       "      <th>3</th>\n",
       "      <td>F12</td>\n",
       "    </tr>\n",
       "    <tr>\n",
       "      <th>4</th>\n",
       "      <td>S100A2</td>\n",
       "    </tr>\n",
       "    <tr>\n",
       "      <th>5</th>\n",
       "      <td>ISLR</td>\n",
       "    </tr>\n",
       "    <tr>\n",
       "      <th>...</th>\n",
       "      <td>...</td>\n",
       "    </tr>\n",
       "    <tr>\n",
       "      <th>18611</th>\n",
       "      <td>TREML2</td>\n",
       "    </tr>\n",
       "    <tr>\n",
       "      <th>18612</th>\n",
       "      <td>TREML4</td>\n",
       "    </tr>\n",
       "    <tr>\n",
       "      <th>18613</th>\n",
       "      <td>IGKV1-33</td>\n",
       "    </tr>\n",
       "    <tr>\n",
       "      <th>18614</th>\n",
       "      <td>TREX1</td>\n",
       "    </tr>\n",
       "    <tr>\n",
       "      <th>18615</th>\n",
       "      <td>POTEM</td>\n",
       "    </tr>\n",
       "  </tbody>\n",
       "</table>\n",
       "<p>18615 rows × 1 columns</p>\n",
       "</div>"
      ],
      "text/plain": [
       "      Gene Name\n",
       "1          COMP\n",
       "2          EBF2\n",
       "3           F12\n",
       "4        S100A2\n",
       "5          ISLR\n",
       "...         ...\n",
       "18611    TREML2\n",
       "18612    TREML4\n",
       "18613  IGKV1-33\n",
       "18614     TREX1\n",
       "18615     POTEM\n",
       "\n",
       "[18615 rows x 1 columns]"
      ]
     },
     "execution_count": 26,
     "metadata": {},
     "output_type": "execute_result"
    }
   ],
   "source": [
    "prediction"
   ]
  },
  {
   "cell_type": "markdown",
   "metadata": {
    "id": "JQFiibInp9gU"
   },
   "source": [
    "## Infer function\n",
    "\n",
    "The `infer` function loads the gene ranking CSV file and and returns it as the output."
   ]
  },
  {
   "cell_type": "code",
   "execution_count": null,
   "metadata": {},
   "outputs": [],
   "source": []
  },
  {
   "cell_type": "code",
   "execution_count": 27,
   "metadata": {
    "id": "WjyE1S3epuim"
   },
   "outputs": [
    {
     "data": {
      "text/html": [
       "<div>\n",
       "<style scoped>\n",
       "    .dataframe tbody tr th:only-of-type {\n",
       "        vertical-align: middle;\n",
       "    }\n",
       "\n",
       "    .dataframe tbody tr th {\n",
       "        vertical-align: top;\n",
       "    }\n",
       "\n",
       "    .dataframe thead th {\n",
       "        text-align: right;\n",
       "    }\n",
       "</style>\n",
       "<table border=\"1\" class=\"dataframe\">\n",
       "  <thead>\n",
       "    <tr style=\"text-align: right;\">\n",
       "      <th></th>\n",
       "      <th>Gene Name</th>\n",
       "    </tr>\n",
       "  </thead>\n",
       "  <tbody>\n",
       "    <tr>\n",
       "      <th>1</th>\n",
       "      <td>COMP</td>\n",
       "    </tr>\n",
       "    <tr>\n",
       "      <th>2</th>\n",
       "      <td>EBF2</td>\n",
       "    </tr>\n",
       "    <tr>\n",
       "      <th>3</th>\n",
       "      <td>F12</td>\n",
       "    </tr>\n",
       "    <tr>\n",
       "      <th>4</th>\n",
       "      <td>S100A2</td>\n",
       "    </tr>\n",
       "    <tr>\n",
       "      <th>5</th>\n",
       "      <td>ISLR</td>\n",
       "    </tr>\n",
       "    <tr>\n",
       "      <th>...</th>\n",
       "      <td>...</td>\n",
       "    </tr>\n",
       "    <tr>\n",
       "      <th>18611</th>\n",
       "      <td>TREML2</td>\n",
       "    </tr>\n",
       "    <tr>\n",
       "      <th>18612</th>\n",
       "      <td>TREML4</td>\n",
       "    </tr>\n",
       "    <tr>\n",
       "      <th>18613</th>\n",
       "      <td>IGKV1-33</td>\n",
       "    </tr>\n",
       "    <tr>\n",
       "      <th>18614</th>\n",
       "      <td>TREX1</td>\n",
       "    </tr>\n",
       "    <tr>\n",
       "      <th>18615</th>\n",
       "      <td>POTEM</td>\n",
       "    </tr>\n",
       "  </tbody>\n",
       "</table>\n",
       "<p>18615 rows × 1 columns</p>\n",
       "</div>"
      ],
      "text/plain": [
       "      Gene Name\n",
       "1          COMP\n",
       "2          EBF2\n",
       "3           F12\n",
       "4        S100A2\n",
       "5          ISLR\n",
       "...         ...\n",
       "18611    TREML2\n",
       "18612    TREML4\n",
       "18613  IGKV1-33\n",
       "18614     TREX1\n",
       "18615     POTEM\n",
       "\n",
       "[18615 rows x 1 columns]"
      ]
     },
     "execution_count": 27,
     "metadata": {},
     "output_type": "execute_result"
    }
   ],
   "source": [
    "import pandas as pd\n",
    "def infer(\n",
    "    data_file_path: str,\n",
    "    data_directory_path: str,\n",
    "    model_directory_path: str\n",
    "):\n",
    "    return pd.read_csv(os.path.join(model_directory_path, \"gene_ranking.csv\"), index_col=0)\n",
    "\n",
    "prediction = infer(\n",
    "    data_file_path=\"./data\",\n",
    "    data_directory_path=\"./data\",\n",
    "    model_directory_path=\"./resources\"\n",
    ")\n",
    "\n",
    "prediction"
   ]
  },
  {
   "cell_type": "markdown",
   "metadata": {},
   "source": [
    "## Insight"
   ]
  },
  {
   "cell_type": "code",
   "execution_count": 28,
   "metadata": {},
   "outputs": [
    {
     "data": {
      "text/html": [
       "<div>\n",
       "<style scoped>\n",
       "    .dataframe tbody tr th:only-of-type {\n",
       "        vertical-align: middle;\n",
       "    }\n",
       "\n",
       "    .dataframe tbody tr th {\n",
       "        vertical-align: top;\n",
       "    }\n",
       "\n",
       "    .dataframe thead th {\n",
       "        text-align: right;\n",
       "    }\n",
       "</style>\n",
       "<table border=\"1\" class=\"dataframe\">\n",
       "  <thead>\n",
       "    <tr style=\"text-align: right;\">\n",
       "      <th></th>\n",
       "      <th>mean_no_cancer</th>\n",
       "      <th>mean_cancer</th>\n",
       "      <th>variance_no_cancer</th>\n",
       "      <th>variance_cancer</th>\n",
       "      <th>dif_abs_mean</th>\n",
       "      <th>logFC</th>\n",
       "      <th>abs_logFC</th>\n",
       "    </tr>\n",
       "  </thead>\n",
       "  <tbody>\n",
       "    <tr>\n",
       "      <th>COMP</th>\n",
       "      <td>0.137522</td>\n",
       "      <td>0.000000</td>\n",
       "      <td>0.035501</td>\n",
       "      <td>0.000000</td>\n",
       "      <td>0.137522</td>\n",
       "      <td>-17.069313</td>\n",
       "      <td>17.069313</td>\n",
       "    </tr>\n",
       "    <tr>\n",
       "      <th>EBF2</th>\n",
       "      <td>0.109462</td>\n",
       "      <td>0.000000</td>\n",
       "      <td>0.031758</td>\n",
       "      <td>0.000000</td>\n",
       "      <td>0.109462</td>\n",
       "      <td>-16.740084</td>\n",
       "      <td>16.740084</td>\n",
       "    </tr>\n",
       "    <tr>\n",
       "      <th>F12</th>\n",
       "      <td>0.000000</td>\n",
       "      <td>0.074202</td>\n",
       "      <td>0.000000</td>\n",
       "      <td>0.002904</td>\n",
       "      <td>0.074202</td>\n",
       "      <td>16.179190</td>\n",
       "      <td>16.179190</td>\n",
       "    </tr>\n",
       "    <tr>\n",
       "      <th>S100A2</th>\n",
       "      <td>0.000000</td>\n",
       "      <td>0.070616</td>\n",
       "      <td>0.000000</td>\n",
       "      <td>0.002792</td>\n",
       "      <td>0.070616</td>\n",
       "      <td>16.107728</td>\n",
       "      <td>16.107728</td>\n",
       "    </tr>\n",
       "    <tr>\n",
       "      <th>ISLR</th>\n",
       "      <td>0.067188</td>\n",
       "      <td>0.000000</td>\n",
       "      <td>0.006408</td>\n",
       "      <td>0.000000</td>\n",
       "      <td>0.067188</td>\n",
       "      <td>-16.035937</td>\n",
       "      <td>16.035937</td>\n",
       "    </tr>\n",
       "    <tr>\n",
       "      <th>...</th>\n",
       "      <td>...</td>\n",
       "      <td>...</td>\n",
       "      <td>...</td>\n",
       "      <td>...</td>\n",
       "      <td>...</td>\n",
       "      <td>...</td>\n",
       "      <td>...</td>\n",
       "    </tr>\n",
       "    <tr>\n",
       "      <th>TREML2</th>\n",
       "      <td>0.000000</td>\n",
       "      <td>0.000000</td>\n",
       "      <td>0.000000</td>\n",
       "      <td>0.000000</td>\n",
       "      <td>0.000000</td>\n",
       "      <td>0.000000</td>\n",
       "      <td>0.000000</td>\n",
       "    </tr>\n",
       "    <tr>\n",
       "      <th>TREML4</th>\n",
       "      <td>0.000000</td>\n",
       "      <td>0.000000</td>\n",
       "      <td>0.000000</td>\n",
       "      <td>0.000000</td>\n",
       "      <td>0.000000</td>\n",
       "      <td>0.000000</td>\n",
       "      <td>0.000000</td>\n",
       "    </tr>\n",
       "    <tr>\n",
       "      <th>IGKV1-33</th>\n",
       "      <td>0.000000</td>\n",
       "      <td>0.000000</td>\n",
       "      <td>0.000000</td>\n",
       "      <td>0.000000</td>\n",
       "      <td>0.000000</td>\n",
       "      <td>0.000000</td>\n",
       "      <td>0.000000</td>\n",
       "    </tr>\n",
       "    <tr>\n",
       "      <th>TREX1</th>\n",
       "      <td>0.000000</td>\n",
       "      <td>0.000000</td>\n",
       "      <td>0.000000</td>\n",
       "      <td>0.000000</td>\n",
       "      <td>0.000000</td>\n",
       "      <td>0.000000</td>\n",
       "      <td>0.000000</td>\n",
       "    </tr>\n",
       "    <tr>\n",
       "      <th>POTEM</th>\n",
       "      <td>0.000000</td>\n",
       "      <td>0.000000</td>\n",
       "      <td>0.000000</td>\n",
       "      <td>0.000000</td>\n",
       "      <td>0.000000</td>\n",
       "      <td>0.000000</td>\n",
       "      <td>0.000000</td>\n",
       "    </tr>\n",
       "  </tbody>\n",
       "</table>\n",
       "<p>18615 rows × 7 columns</p>\n",
       "</div>"
      ],
      "text/plain": [
       "          mean_no_cancer  mean_cancer  variance_no_cancer  variance_cancer  \\\n",
       "COMP            0.137522     0.000000            0.035501         0.000000   \n",
       "EBF2            0.109462     0.000000            0.031758         0.000000   \n",
       "F12             0.000000     0.074202            0.000000         0.002904   \n",
       "S100A2          0.000000     0.070616            0.000000         0.002792   \n",
       "ISLR            0.067188     0.000000            0.006408         0.000000   \n",
       "...                  ...          ...                 ...              ...   \n",
       "TREML2          0.000000     0.000000            0.000000         0.000000   \n",
       "TREML4          0.000000     0.000000            0.000000         0.000000   \n",
       "IGKV1-33        0.000000     0.000000            0.000000         0.000000   \n",
       "TREX1           0.000000     0.000000            0.000000         0.000000   \n",
       "POTEM           0.000000     0.000000            0.000000         0.000000   \n",
       "\n",
       "          dif_abs_mean      logFC  abs_logFC  \n",
       "COMP          0.137522 -17.069313  17.069313  \n",
       "EBF2          0.109462 -16.740084  16.740084  \n",
       "F12           0.074202  16.179190  16.179190  \n",
       "S100A2        0.070616  16.107728  16.107728  \n",
       "ISLR          0.067188 -16.035937  16.035937  \n",
       "...                ...        ...        ...  \n",
       "TREML2        0.000000   0.000000   0.000000  \n",
       "TREML4        0.000000   0.000000   0.000000  \n",
       "IGKV1-33      0.000000   0.000000   0.000000  \n",
       "TREX1         0.000000   0.000000   0.000000  \n",
       "POTEM         0.000000   0.000000   0.000000  \n",
       "\n",
       "[18615 rows x 7 columns]"
      ]
     },
     "execution_count": 28,
     "metadata": {},
     "output_type": "execute_result"
    }
   ],
   "source": [
    "df_gene_ranking"
   ]
  },
  {
   "cell_type": "code",
   "execution_count": 38,
   "metadata": {},
   "outputs": [
    {
     "data": {
      "text/plain": [
       "False"
      ]
     },
     "execution_count": 38,
     "metadata": {},
     "output_type": "execute_result"
    }
   ],
   "source": [
    "'COMP' in gene_460_names"
   ]
  },
  {
   "cell_type": "code",
   "execution_count": 39,
   "metadata": {},
   "outputs": [],
   "source": [
    "prediction['is460'] = prediction['Gene Name'].apply(lambda x: x in gene_460_names)"
   ]
  },
  {
   "cell_type": "code",
   "execution_count": 53,
   "metadata": {},
   "outputs": [],
   "source": [
    "import pandas as pd\n",
    "import matplotlib.pyplot as plt\n",
    "\n",
    "df = df_gene_ranking[['logFC']].copy()\n",
    "\n",
    "df['is460'] = ['green' if gene in gene_460_names else 'red' for gene in df.index]"
   ]
  },
  {
   "cell_type": "code",
   "execution_count": 54,
   "metadata": {},
   "outputs": [],
   "source": [
    "df['rank'] = [i+1 for i in range(len(df))]"
   ]
  },
  {
   "cell_type": "code",
   "execution_count": null,
   "metadata": {},
   "outputs": [],
   "source": []
  },
  {
   "cell_type": "code",
   "execution_count": 64,
   "metadata": {},
   "outputs": [
    {
     "data": {
      "image/png": "[encoded data removed]",
      "text/plain": [
       "<Figure size 1000x600 with 1 Axes>"
      ]
     },
     "metadata": {},
     "output_type": "display_data"
    }
   ],
   "source": [
    "# Create the scatterplot\n",
    "plt.figure(figsize=(10, 6))\n",
    "df_460 = df[df.is460 == 'green']\n",
    "df_imputed = df[df.is460 != 'green']\n",
    "plt.scatter(df_imputed['rank'].values, df_imputed['logFC'].values, c=df_imputed['is460'].values, s=0.1);\n",
    "plt.scatter(df_460['rank'].values, df_460['logFC'].values, c=df_460['is460'].values, s=5);\n",
    "\n",
    "# Add labels and title\n",
    "plt.xlabel('Row Number')\n",
    "plt.ylabel('logFC')\n",
    "plt.title('Scatterplot of logFC vs Row Number')\n",
    "\n",
    "# Create custom legend\n",
    "import matplotlib.patches as mpatches\n",
    "red_patch = mpatches.Patch(color='red', label='Imputed')\n",
    "green_patch = mpatches.Patch(color='green', label='Assayed')\n",
    "plt.legend(handles=[red_patch, green_patch]);"
   ]
  },
  {
   "cell_type": "code",
   "execution_count": null,
   "metadata": {},
   "outputs": [],
   "source": []
  }
 ],
 "metadata": {
  "colab": {
   "provenance": [
    {
     "file_id": "1mrCYp0MSIolnJBcTFuZoPBU39xNyiMBY",
     "timestamp": 1734438290923
    },
    {
     "file_id": "15O0Uur2rCLQjgNSXPce7TytD3Ci07nm0",
     "timestamp": 1732783611507
    }
   ]
  },
  "kernelspec": {
   "display_name": "Python 3 (ipykernel)",
   "language": "python",
   "name": "python3"
  },
  "language_info": {
   "codemirror_mode": {
    "name": "ipython",
    "version": 3
   },
   "file_extension": ".py",
   "mimetype": "text/x-python",
   "name": "python",
   "nbconvert_exporter": "python",
   "pygments_lexer": "ipython3",
   "version": "3.10.16"
  }
 },
 "nbformat": 4,
 "nbformat_minor": 4
}
