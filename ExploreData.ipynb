{
 "cells": [
  {
   "cell_type": "markdown",
   "id": "00ddc371-4510-4754-ad8b-b18be9eb7e1d",
   "metadata": {},
   "source": [
    "# Broad IBD Challenge Data and results visualizations"
   ]
  },
  {
   "cell_type": "markdown",
   "id": "e63ade92-6d18-494a-bcdf-1c5cfd59fd7d",
   "metadata": {},
   "source": [
    "## Ideas"
   ]
  },
  {
   "cell_type": "markdown",
   "id": "d4796fe9-f637-4954-ae24-5800d87971d1",
   "metadata": {},
   "source": [
    "Data Exploration: Visualizing input data characteristics\n",
    "    Spatial distribution of cells colored by region\n",
    "    Spatial distribution of cells colored by quality score\n",
    "\n",
    "Feature Extraction: Visualizing extracted image features\n",
    "    PCA (Principal Component Analysis): Visualizing the principal components of image features\n",
    "    t-SNE (t-Distributed Stochastic Neighbor Embedding): Visualizing local relationships between features\n",
    "    UMAP (Uniform Manifold Approximation and Projection): Visualizing global and local structure of feature space\n",
    "\n",
    "Model Performance: Visualizing model training and evaluation\n",
    "\n",
    "Training Metrics\n",
    "    Line plots of training and validation loss over epochs\n",
    "    Line plots of Spearman correlation over epochs\n",
    "    Learning rate schedules\n",
    "    Gradient norms during training\n",
    "\n",
    "Prediction Accuracy\n",
    "    Scatter plots of predicted vs. actual expression values\n",
    "    Histograms of prediction errors\n",
    "    Box plots of prediction accuracy across genes\n",
    "    Heatmaps of correlation matrices\n",
    "    PCA plots comparing predictions to ground truth\n",
    "    t-SNE plots comparing predictions to ground truth\n",
    "    UMAP plots comparing predictions to ground truth\n",
    "\n",
    "Gene Expression: Visualizing predicted gene expression patterns\n",
    "    PCA of gene expression colored by region\n",
    "    Gene expression distributions\n",
    "    Gene-gene correlation heatmap\n",
    "        Heatmaps of gene expression across cells\n",
    "        Clustered heatmaps showing gene modules\n",
    "        Heatmaps comparing predicted and actual expression\n",
    "        Heatmaps showing expression differences between tissue regions\n",
    "\n",
    "Spatial Patterns: Visualizing spatial distribution of gene expression\n",
    "    Original H&E images showing tissue structure\n",
    "    Overlay of cell positions on H&E images\n",
    "    Zoomed-in views of specific tissue regions\n",
    "    Scatter plots of cells colored by expression level\n",
    "    Heatmaps overlaid on tissue images\n",
    "    Contour plots showing expression gradients\n",
    "    3D surface plots of expression landscapes\n",
    "\n",
    "Differential Expression: Visualizing differences between tissue regions\n",
    "    Histograms of gene expression values\n",
    "    Box plots showing expression distribution across genes\n",
    "    Violin plots comparing expression in different tissue regions\n",
    "    Density plots of expression values\n",
    "    Scatter plots of -log10(p-value) vs. log2(fold change)\n",
    "    Highlighted points for significantly differentially expressed genes\n",
    "    Labeled points for top genes\n",
    "\n",
    "Comparison of dysplastic and non-dysplastic regions\n",
    "    MA Plots\n",
    "        Scatter plots of log2(fold change) vs. log2(mean expression)\n",
    "        Highlighted points for significantly differentially expressed genes\n",
    "        Smoothed trend lines showing overall patterns"
   ]
  },
  {
   "cell_type": "markdown",
   "id": "18992ffd-1ae8-44b8-a980-b84d92980c01",
   "metadata": {},
   "source": [
    "## Input data"
   ]
  },
  {
   "cell_type": "raw",
   "id": "5ef3d99f-caac-493a-92f9-1b2074d5cdbd",
   "metadata": {},
   "source": [
    "### Crunch 1 \n",
    "\n",
    "UC1_I.zarr\n",
    "UC9_I.zarr\n",
    "\n",
    "### Crunch 2\n",
    "\n",
    "Crunch3_gene_list.csv\n",
    "Crunch3_scRNAseq.h5ad\n",
    "\n",
    "### Crunch 3\n",
    "\n",
    "UC9_I-crunch3-HE-dysplasia-ROI.tif\n",
    "UC9_I-crunch3-HE-label-stardist.tif\n",
    "UC9_I-crunch3-HE.tif\n"
   ]
  },
  {
   "cell_type": "code",
   "execution_count": 2,
   "id": "babf63a8-fa13-49b8-9f3e-ac8a3329cb90",
   "metadata": {
    "scrolled": true
   },
   "outputs": [
    {
     "name": "stdout",
     "output_type": "stream",
     "text": [
      "Crunch3_gene_list.csv\n",
      "Crunch3_scRNAseq.h5ad\n",
      "UC1_I.zarr\n",
      "UC9_I-crunch3-HE-dysplasia-ROI.tif\n",
      "UC9_I-crunch3-HE-label-stardist.tif\n",
      "UC9_I-crunch3-HE.tif\n",
      "UC9_I.zarr\n"
     ]
    }
   ],
   "source": [
    " !ls data | grep ''"
   ]
  },
  {
   "cell_type": "code",
   "execution_count": 3,
   "id": "e204b2c9-717f-4f3f-9bce-b2b75072617c",
   "metadata": {},
   "outputs": [],
   "source": [
    "name_data = 'UC1_I'"
   ]
  },
  {
   "cell_type": "code",
   "execution_count": 4,
   "id": "4b1086c7-61c7-46ef-93aa-9099a60b89b8",
   "metadata": {},
   "outputs": [],
   "source": [
    "data_directory_path = './data'"
   ]
  },
  {
   "cell_type": "code",
   "execution_count": 5,
   "id": "0e68e384-be85-428b-9cc0-aa00327df5b7",
   "metadata": {},
   "outputs": [
    {
     "name": "stderr",
     "output_type": "stream",
     "text": [
      "/usr/lib/python3.10/importlib/__init__.py:126: FutureWarning: The legacy Dask DataFrame implementation is deprecated and will be removed in a future version. Set the configuration option `dataframe.query-planning` to `True` or None to enable the new Dask Dataframe implementation and silence this warning.\n",
      "  return _bootstrap._gcd_import(name[level:], package, level)\n"
     ]
    }
   ],
   "source": [
    "import os\n",
    "import spatialdata as sd "
   ]
  },
  {
   "cell_type": "code",
   "execution_count": 6,
   "id": "46ca4eb9-2eb5-4cce-9ee9-08486357e233",
   "metadata": {},
   "outputs": [
    {
     "name": "stdout",
     "output_type": "stream",
     "text": [
      "zarr_path ./data/UC1_I.zarr True\n"
     ]
    },
    {
     "name": "stderr",
     "output_type": "stream",
     "text": [
      "/home/catskills/Desktop/broad/broad/lib/python3.10/site-packages/zarr/creation.py:614: UserWarning: ignoring keyword argument 'read_only'\n",
      "  compressor, fill_value = _kwargs_compat(compressor, fill_value, kwargs)\n"
     ]
    }
   ],
   "source": [
    "zarr_path = os.path.join(data_directory_path, f\"{name_data}.zarr\")\n",
    "print(\"zarr_path\", zarr_path, os.path.exists(zarr_path))\n",
    "sdata = sd.read_zarr(zarr_path)\n"
   ]
  },
  {
   "cell_type": "code",
   "execution_count": 7,
   "id": "a6ed33c9-1bb6-42eb-bdbb-b9e442caefa7",
   "metadata": {},
   "outputs": [
    {
     "data": {
      "text/plain": [
       "SpatialData object, with associated Zarr store: /home/catskills/Desktop/broad/data/data/UC1_I.zarr\n",
       "├── Images\n",
       "│     ├── 'DAPI': DataArray[cyx] (1, 47659, 51147)\n",
       "│     ├── 'DAPI_nuc': DataArray[cyx] (1, 47659, 51147)\n",
       "│     ├── 'HE_nuc_original': DataArray[cyx] (1, 20000, 22000)\n",
       "│     ├── 'HE_nuc_registered': DataArray[cyx] (1, 47659, 51147)\n",
       "│     ├── 'HE_original': DataArray[cyx] (3, 20000, 22000)\n",
       "│     ├── 'HE_registered': DataArray[cyx] (3, 47659, 51147)\n",
       "│     ├── 'group': DataArray[cyx] (1, 47659, 51147)\n",
       "│     └── 'group_HEspace': DataArray[cyx] (1, 20000, 22000)\n",
       "├── Points\n",
       "│     └── 'transcripts': DataFrame with shape: (<Delayed>, 8) (2D points)\n",
       "└── Tables\n",
       "      ├── 'anucleus': AnnData (202534, 460)\n",
       "      └── 'cell_id-group': AnnData (234356, 0)\n",
       "with coordinate systems:\n",
       "    ▸ 'global', with elements:\n",
       "        DAPI (Images), DAPI_nuc (Images), HE_nuc_original (Images), HE_nuc_registered (Images), HE_original (Images), HE_registered (Images), group (Images), group_HEspace (Images)\n",
       "    ▸ 'scale_um_to_px', with elements:\n",
       "        transcripts (Points)"
      ]
     },
     "execution_count": 7,
     "metadata": {},
     "output_type": "execute_result"
    }
   ],
   "source": [
    "sdata"
   ]
  },
  {
   "cell_type": "code",
   "execution_count": 9,
   "id": "0940351b-2550-4cf5-80f8-200635e4ffca",
   "metadata": {},
   "outputs": [
    {
     "data": {
      "text/plain": [
       "(array(['A2M', 'ACP5', 'ACTA2', 'ADAMTSL3', 'AFAP1L2', 'AHR', 'ALDH1B1',\n",
       "        'ANO1', 'ANXA1', 'AQP1'], dtype=object),\n",
       " 460)"
      ]
     },
     "execution_count": 9,
     "metadata": {},
     "output_type": "execute_result"
    }
   ],
   "source": [
    "gene_name_list = sdata['anucleus'].var['gene_symbols'].values\n",
    "gene_name_list[0:10], len(gene_name_list)"
   ]
  },
  {
   "cell_type": "code",
   "execution_count": 10,
   "id": "4d0955b1-148f-4583-858b-13810b1aed00",
   "metadata": {},
   "outputs": [],
   "source": [
    "size_subset = len(sdata['anucleus'].obs)\n",
    "rows_to_keep = list(sdata['anucleus'].obs.sample(n=size_subset, random_state=42).index)\n",
    "cell_id_train = sdata['anucleus'].obs[\"cell_id\"].values"
   ]
  },
  {
   "cell_type": "code",
   "execution_count": 13,
   "id": "5075b161-12aa-4c43-a841-1830276941dd",
   "metadata": {},
   "outputs": [],
   "source": [
    "dir_processed_dataset = 'resources/processed_dataset'"
   ]
  },
  {
   "cell_type": "code",
   "execution_count": 14,
   "id": "96237a62-d9c6-4d5f-b959-d8504510ac93",
   "metadata": {},
   "outputs": [],
   "source": [
    "patch_save_dir = os.path.join(dir_processed_dataset, \"patches\")\n",
    "adata_save_dir = os.path.join(dir_processed_dataset, \"adata\")\n",
    "splits_save_dir = os.path.join(dir_processed_dataset, \"splits\")"
   ]
  },
  {
   "cell_type": "code",
   "execution_count": 17,
   "id": "88f93b9f-4781-44d3-a0de-0b6c8a62d371",
   "metadata": {},
   "outputs": [],
   "source": [
    "# Path for the .h5 image dataset\n",
    "h5_path = os.path.join(patch_save_dir, name_data + '.h5')"
   ]
  },
  {
   "cell_type": "code",
   "execution_count": 18,
   "id": "c34261cc-934e-4722-a21d-8e262fc3aea9",
   "metadata": {},
   "outputs": [
    {
     "data": {
      "text/plain": [
       "array([[15922.64229765,  4480.31331593],\n",
       "       [15655.11413043,  4483.20108696],\n",
       "       [15950.88442211,  4457.26130653],\n",
       "       ...,\n",
       "       [36321.08390023, 44317.16780045],\n",
       "       [36977.44547564, 43940.57308585],\n",
       "       [36902.07462687, 43880.94626866]])"
      ]
     },
     "execution_count": 18,
     "metadata": {},
     "output_type": "execute_result"
    }
   ],
   "source": [
    "sdata['anucleus'].obsm['spatial']"
   ]
  },
  {
   "cell_type": "code",
   "execution_count": 24,
   "id": "d44646ce-6a8f-4ffb-9122-4e3d3e965534",
   "metadata": {},
   "outputs": [
    {
     "data": {
      "text/plain": [
       "['_path',\n",
       " '_shared_keys',\n",
       " '_images',\n",
       " '_labels',\n",
       " '_points',\n",
       " '_shapes',\n",
       " '_tables',\n",
       " '_attrs',\n",
       " '_query']"
      ]
     },
     "execution_count": 24,
     "metadata": {},
     "output_type": "execute_result"
    }
   ],
   "source": [
    "[x for x in vars(sdata)]"
   ]
  },
  {
   "cell_type": "code",
   "execution_count": 20,
   "id": "437ab87d-0325-4af7-8938-fea70d0c195b",
   "metadata": {},
   "outputs": [],
   "source": [
    "from extract_spatial_positions import extract_spatial_positions"
   ]
  },
  {
   "cell_type": "code",
   "execution_count": 21,
   "id": "914b5b35-d6d6-426c-b249-56f355efb292",
   "metadata": {},
   "outputs": [
    {
     "name": "stdout",
     "output_type": "stream",
     "text": [
      "Extracting spatial positions ...\n"
     ]
    },
    {
     "name": "stderr",
     "output_type": "stream",
     "text": [
      "100%|██████████████████████████████████████████████████████████████████████████████████████████████████████████████████████████████| 234356/234356 [00:21<00:00, 10875.74it/s]\n"
     ]
    }
   ],
   "source": [
    "new_spatial_coord = extract_spatial_positions(sdata, cell_id_train)\n",
    "# Store new spatial coordinates into sdata\n",
    "sdata['anucleus'].obsm['spatial'] = new_spatial_coord"
   ]
  },
  {
   "cell_type": "code",
   "execution_count": 32,
   "id": "a7192f62-b11d-404a-aacc-0c79e93dcfdc",
   "metadata": {},
   "outputs": [],
   "source": [
    "df = sdata['anucleus'][0].to_df()"
   ]
  },
  {
   "cell_type": "code",
   "execution_count": 34,
   "id": "dc48e794-214f-4586-9a56-8abc8e07982e",
   "metadata": {},
   "outputs": [
    {
     "data": {
      "text/plain": [
       "array([[1.3090631, 2.2091649, 1.3090631, 1.3090631, 1.8571422, 1.8571422,\n",
       "        1.3090631, 1.3090631, 1.3090631, 1.8571422, 1.3090631, 1.3090631,\n",
       "        1.3090631, 1.3090631, 1.3090631, 1.3090631, 1.3090631, 1.8571422,\n",
       "        1.3090631, 1.3090631, 1.3090631, 1.3090631, 2.6750803, 1.3090631,\n",
       "        1.3090631, 1.3090631, 1.3090631]], dtype=float32)"
      ]
     },
     "execution_count": 34,
     "metadata": {},
     "output_type": "execute_result"
    }
   ],
   "source": [
    "df.loc[:, (df != 0).any(axis=0)].values"
   ]
  },
  {
   "cell_type": "code",
   "execution_count": 35,
   "id": "451c463e-10e0-4e0e-a510-e950583bb890",
   "metadata": {},
   "outputs": [
    {
     "name": "stdout",
     "output_type": "stream",
     "text": [
      "Create gene expression dataset (Y) ...\n"
     ]
    }
   ],
   "source": [
    "    # Create the gene expression dataset (Y)\n",
    "    print(\"Create gene expression dataset (Y) ...\")\n",
    "    y_subtracted = sdata['anucleus'][rows_to_keep].copy()"
   ]
  },
  {
   "cell_type": "code",
   "execution_count": 41,
   "id": "3de10b90-79ad-4131-9db5-170f262a3501",
   "metadata": {},
   "outputs": [],
   "source": [
    "    # Trick to set all index to same length to avoid problems when saving to h5\n",
    "    y_subtracted.obs.index = ['x' + str(i).zfill(6) for i in y_subtracted.obs.index]"
   ]
  },
  {
   "cell_type": "code",
   "execution_count": 42,
   "id": "e1e8d6a4-325d-44a8-8be1-88a1a99ac13b",
   "metadata": {},
   "outputs": [
    {
     "data": {
      "text/plain": [
       "AnnData object with n_obs × n_vars = 202534 × 460\n",
       "    obs: 'cell_id'\n",
       "    var: 'gene_symbols'\n",
       "    obsm: 'spatial'\n",
       "    layers: 'counts'"
      ]
     },
     "execution_count": 42,
     "metadata": {},
     "output_type": "execute_result"
    }
   ],
   "source": [
    "y_subtracted"
   ]
  },
  {
   "cell_type": "code",
   "execution_count": 40,
   "id": "6717f191-7867-4e72-b87a-9b9cf747687a",
   "metadata": {},
   "outputs": [
    {
     "data": {
      "text/plain": [
       "True"
      ]
     },
     "execution_count": 40,
     "metadata": {},
     "output_type": "execute_result"
    }
   ],
   "source": [
    "os.path.join(adata_save_dir, f'{name_data}.h5ad')\n"
   ]
  },
  {
   "cell_type": "code",
   "execution_count": null,
   "id": "9fc1c154-e47a-4453-9e50-a51c3de75390",
   "metadata": {},
   "outputs": [],
   "source": [
    "# Save the gene expression data to an H5AD file\n",
    "y_subtracted.write(os.path.join(adata_save_ dir, f'{name_data}.h5ad'))"
   ]
  },
  {
   "cell_type": "code",
   "execution_count": 46,
   "id": "acdd14de-dc9f-49ba-bac5-c1b0b0836463",
   "metadata": {},
   "outputs": [],
   "source": [
    "for index in y_subtracted.obs.index:\n",
    "    if len(index) != len(y_subtracted.obs.index[0]):\n",
    "        warnings.warn(\"indices of y_subtracted.obs should all have the same length to avoid problems when saving to h5\", UserWarning)"
   ]
  },
  {
   "cell_type": "code",
   "execution_count": 45,
   "id": "7d6e29ee-4e66-4444-9a6b-821b401c2be2",
   "metadata": {},
   "outputs": [],
   "source": [
    "import numpy as np"
   ]
  },
  {
   "cell_type": "code",
   "execution_count": 47,
   "id": "6e889c5c-f322-4bd5-88c6-84594c8f7e23",
   "metadata": {},
   "outputs": [],
   "source": [
    "# Extract spatial coordinates and barcodes (cell IDs) for the patches\n",
    "coords_center = y_subtracted.obsm['spatial']\n",
    "barcodes = np.array(y_subtracted.obs.index)"
   ]
  },
  {
   "cell_type": "code",
   "execution_count": 49,
   "id": "140bfaf1-43b4-4df6-b44f-6fd334ace5e4",
   "metadata": {},
   "outputs": [
    {
     "data": {
      "text/plain": [
       "array(['x121675', 'x157346', 'x164660', ..., 'x161779', 'x179685',\n",
       "       'x149190'], dtype=object)"
      ]
     },
     "execution_count": 49,
     "metadata": {},
     "output_type": "execute_result"
    }
   ],
   "source": [
    "barcodes"
   ]
  },
  {
   "cell_type": "code",
   "execution_count": null,
   "id": "ff4f32f6-ebcf-4e5a-b321-cfab0536fc8e",
   "metadata": {},
   "outputs": [],
   "source": []
  }
 ],
 "metadata": {
  "kernelspec": {
   "display_name": "broad",
   "language": "python",
   "name": "broad"
  },
  "language_info": {
   "codemirror_mode": {
    "name": "ipython",
    "version": 3
   },
   "file_extension": ".py",
   "mimetype": "text/x-python",
   "name": "python",
   "nbconvert_exporter": "python",
   "pygments_lexer": "ipython3",
   "version": "3.10.16"
  }
 },
 "nbformat": 4,
 "nbformat_minor": 5
}
